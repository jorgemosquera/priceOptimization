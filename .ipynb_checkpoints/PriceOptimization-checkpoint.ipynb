{
 "cells": [
  {
   "cell_type": "markdown",
   "metadata": {},
   "source": [
    "# Gather Data"
   ]
  },
  {
   "cell_type": "code",
   "execution_count": 1,
   "metadata": {},
   "outputs": [],
   "source": [
    "import requests\n",
    "from lxml import html\n",
    "import pandas as pd"
   ]
  },
  {
   "cell_type": "markdown",
   "metadata": {},
   "source": [
    "First, let's define the car that we want information"
   ]
  },
  {
   "cell_type": "code",
   "execution_count": 2,
   "metadata": {},
   "outputs": [],
   "source": [
    "ROOT_URL = 'https://carros.tucarro.com.co/'\n",
    "BRAND = 'mercedes-benz'\n",
    "MODEL = 'clase-c'\n",
    "VERSION = '180'"
   ]
  },
  {
   "cell_type": "code",
   "execution_count": 3,
   "metadata": {},
   "outputs": [],
   "source": [
    "url = ROOT_URL+BRAND+'/'+MODEL+'/'"
   ]
  },
  {
   "cell_type": "markdown",
   "metadata": {},
   "source": [
    "Let's create a function to download the webpage with the car provided. "
   ]
  },
  {
   "cell_type": "code",
   "execution_count": 4,
   "metadata": {},
   "outputs": [],
   "source": [
    "def download(url, user_agent='wswp', num_retries=2, print_url=False):\n",
    "    if (print_url):\n",
    "        print ('Downloading: ',url)\n",
    "    headers = {'User-Agent': user_agent}\n",
    "    try:\n",
    "        resp = requests.get(url, headers=headers)\n",
    "        if resp.status_code >= 400:\n",
    "            print('Download error:', resp.text)\n",
    "            if num_retries and 500 <= resp.status_code < 600:\n",
    "                return download(url, num_retries - 1)\n",
    "        else:\n",
    "            return resp\n",
    "    except requests.exceptions.RequestException as e:\n",
    "        print('Download error: ', e)"
   ]
  },
  {
   "cell_type": "code",
   "execution_count": 5,
   "metadata": {},
   "outputs": [],
   "source": [
    "pageContent = download(url)"
   ]
  },
  {
   "cell_type": "code",
   "execution_count": 6,
   "metadata": {},
   "outputs": [
    {
     "name": "stdout",
     "output_type": "stream",
     "text": [
      "<Response [200]>\n"
     ]
    }
   ],
   "source": [
    "print(pageContent)"
   ]
  },
  {
   "cell_type": "markdown",
   "metadata": {},
   "source": [
    "Now, we have to check how many pages we will have to scrape. We will do this with the get_address_list function"
   ]
  },
  {
   "cell_type": "code",
   "execution_count": 7,
   "metadata": {},
   "outputs": [],
   "source": [
    "def get_address_list(pageContent):\n",
    "    tree = html.fromstring(pageContent.content)\n",
    "    address_elements = tree.xpath(\n",
    "        '//li[contains(@class,\"andes-pagination__button\")]')\n",
    "\n",
    "    address_list = []\n",
    "    for element in address_elements:\n",
    "        raw_address = element.xpath('.//a/@href')\n",
    "        address = ' '.join(' '.join(raw_address).split())\n",
    "\n",
    "        address_list.append(address)\n",
    "\n",
    "    address_list[0] = url\n",
    "    address_list.pop()\n",
    "\n",
    "    return address_list"
   ]
  },
  {
   "cell_type": "code",
   "execution_count": 8,
   "metadata": {},
   "outputs": [],
   "source": [
    "address_list = get_address_list(pageContent)"
   ]
  },
  {
   "cell_type": "code",
   "execution_count": 9,
   "metadata": {},
   "outputs": [
    {
     "data": {
      "text/plain": [
       "['https://carros.tucarro.com.co/mercedes-benz/clase-c/',\n",
       " 'https://carros.tucarro.com.co/mercedes-benz/clase-c/_Desde_49',\n",
       " 'https://carros.tucarro.com.co/mercedes-benz/clase-c/_Desde_97',\n",
       " 'https://carros.tucarro.com.co/mercedes-benz/clase-c/_Desde_145',\n",
       " 'https://carros.tucarro.com.co/mercedes-benz/clase-c/_Desde_193',\n",
       " 'https://carros.tucarro.com.co/mercedes-benz/clase-c/_Desde_241',\n",
       " 'https://carros.tucarro.com.co/mercedes-benz/clase-c/_Desde_289',\n",
       " 'https://carros.tucarro.com.co/mercedes-benz/clase-c/_Desde_337',\n",
       " 'https://carros.tucarro.com.co/mercedes-benz/clase-c/_Desde_385']"
      ]
     },
     "execution_count": 9,
     "metadata": {},
     "output_type": "execute_result"
    }
   ],
   "source": [
    "address_list"
   ]
  },
  {
   "cell_type": "markdown",
   "metadata": {},
   "source": [
    "Now, we will start scraping the information od every car. We will loop trough the urls and append the information to a list."
   ]
  },
  {
   "cell_type": "code",
   "execution_count": 10,
   "metadata": {},
   "outputs": [],
   "source": [
    "def get_information(address_list):\n",
    "    scraped_products = []\n",
    "    for url in address_list:\n",
    "        pageContent = download(url)\n",
    "        tree = html.fromstring(pageContent.content)\n",
    "\n",
    "        product_listings = tree.xpath(\n",
    "            '//div[contains(@class,\"rowItem item highlighted item--grid item--has-row-logo new\")]')\n",
    "\n",
    "        for product in product_listings:\n",
    "            raw_url = product.xpath('.//div[@class=\"images-viewer\"]/@item-url')\n",
    "            raw_price = product.xpath(\n",
    "                \".//div[contains(@class,'item__price')]//span[@class='price__fraction']//text()\")\n",
    "            raw_year = product.xpath('.//div[@class=\"item__attrs\"]//text()')\n",
    "            raw_name = product.xpath(\n",
    "                \".//h2[contains(@class,'item__title list-view-item-title')]//span[@class='main-title']//text()\")\n",
    "            raw_id = product.xpath('.//div[@class=\"images-viewer\"]/@item-id')\n",
    "\n",
    "            price = ' '.join(' '.join(raw_price).split())\n",
    "            year = ' '.join(' '.join(raw_year).split())\n",
    "            name = ' '.join(' '.join(raw_name).split())\n",
    "            ID = ' '.join(' '.join(raw_id).split())\n",
    "            data = {\n",
    "                'url': raw_url[0],\n",
    "                'price': price,\n",
    "                'year': year,\n",
    "                'name': name,\n",
    "                'ID': ID\n",
    "            }\n",
    "            scraped_products.append(data)\n",
    "\n",
    "    for url in scraped_products:\n",
    "        pageContent = download(url['url'])\n",
    "        details = html.fromstring(pageContent.content)\n",
    "\n",
    "        details_listings = details.xpath('//li[contains(@class,\"specs-item\")]')\n",
    "\n",
    "        for product in details_listings:\n",
    "            raw_spec = product.xpath(\".//strong//text()\")\n",
    "            raw_value = product.xpath(\".//span//text()\")\n",
    "            spec = ' '.join(' '.join(raw_spec).split())\n",
    "            value = ' '.join(' '.join(raw_value).split())\n",
    "\n",
    "            url.update({spec: value})\n",
    "\n",
    "    df = pd.DataFrame(scraped_products)\n",
    "    return df"
   ]
  },
  {
   "cell_type": "code",
   "execution_count": 11,
   "metadata": {},
   "outputs": [],
   "source": [
    "df = get_information(address_list)"
   ]
  },
  {
   "cell_type": "code",
   "execution_count": 12,
   "metadata": {},
   "outputs": [
    {
     "data": {
      "text/html": [
       "<div>\n",
       "<style scoped>\n",
       "    .dataframe tbody tr th:only-of-type {\n",
       "        vertical-align: middle;\n",
       "    }\n",
       "\n",
       "    .dataframe tbody tr th {\n",
       "        vertical-align: top;\n",
       "    }\n",
       "\n",
       "    .dataframe thead th {\n",
       "        text-align: right;\n",
       "    }\n",
       "</style>\n",
       "<table border=\"1\" class=\"dataframe\">\n",
       "  <thead>\n",
       "    <tr style=\"text-align: right;\">\n",
       "      <th></th>\n",
       "      <th>url</th>\n",
       "      <th>price</th>\n",
       "      <th>year</th>\n",
       "      <th>name</th>\n",
       "      <th>ID</th>\n",
       "      <th>Marca</th>\n",
       "      <th>Modelo</th>\n",
       "      <th>Versión</th>\n",
       "      <th>Año</th>\n",
       "      <th>Cilindrada</th>\n",
       "      <th>Kilómetros</th>\n",
       "      <th>Puertas</th>\n",
       "      <th>Tipo de combustible</th>\n",
       "      <th>Placa</th>\n",
       "    </tr>\n",
       "  </thead>\n",
       "  <tbody>\n",
       "    <tr>\n",
       "      <th>0</th>\n",
       "      <td>https://articulo.tucarro.com.co/MCO-548377895-...</td>\n",
       "      <td>26.900.000</td>\n",
       "      <td>2005 | 140000 km</td>\n",
       "      <td>Mercedes-benz Clase C C320</td>\n",
       "      <td>MCO548377895</td>\n",
       "      <td>Mercedes-Benz</td>\n",
       "      <td>Clase C</td>\n",
       "      <td>C320</td>\n",
       "      <td>2005</td>\n",
       "      <td>3.199 cc</td>\n",
       "      <td>140.000 km</td>\n",
       "      <td>5</td>\n",
       "      <td>Gasolina</td>\n",
       "      <td>FAW265</td>\n",
       "    </tr>\n",
       "    <tr>\n",
       "      <th>1</th>\n",
       "      <td>https://articulo.tucarro.com.co/MCO-549745190-...</td>\n",
       "      <td>59.000.000</td>\n",
       "      <td>2012 | 59000 km</td>\n",
       "      <td>Mercedes-benz Clase C C200 Elegance 1.8 Turbo</td>\n",
       "      <td>MCO549745190</td>\n",
       "      <td>Mercedes-Benz</td>\n",
       "      <td>Clase C</td>\n",
       "      <td>C200 Elegance 1.8 Turbo</td>\n",
       "      <td>2012</td>\n",
       "      <td>1.8 cc</td>\n",
       "      <td>59.000 km</td>\n",
       "      <td>4</td>\n",
       "      <td>Gasolina</td>\n",
       "      <td>MBM947</td>\n",
       "    </tr>\n",
       "    <tr>\n",
       "      <th>2</th>\n",
       "      <td>https://articulo.tucarro.com.co/MCO-552274120-...</td>\n",
       "      <td>66.000.000</td>\n",
       "      <td>2015 | 92000 km</td>\n",
       "      <td>Mercedes-benz Clase C Avantgrade</td>\n",
       "      <td>MCO552274120</td>\n",
       "      <td>Mercedes-Benz</td>\n",
       "      <td>Clase C</td>\n",
       "      <td>Avantgrade</td>\n",
       "      <td>2015</td>\n",
       "      <td>NaN</td>\n",
       "      <td>92.000 km</td>\n",
       "      <td>5</td>\n",
       "      <td>Gasolina</td>\n",
       "      <td>impar</td>\n",
       "    </tr>\n",
       "    <tr>\n",
       "      <th>3</th>\n",
       "      <td>https://articulo.tucarro.com.co/MCO-551514710-...</td>\n",
       "      <td>81.500.000</td>\n",
       "      <td>2016 | 34900 km</td>\n",
       "      <td>Mercedes-benz Clase C C200 Exclusive</td>\n",
       "      <td>MCO551514710</td>\n",
       "      <td>Mercedes-Benz</td>\n",
       "      <td>Clase C</td>\n",
       "      <td>C200 EXCLUSIVE</td>\n",
       "      <td>2016</td>\n",
       "      <td>2000 cc</td>\n",
       "      <td>34.900 km</td>\n",
       "      <td>4</td>\n",
       "      <td>Gasolina</td>\n",
       "      <td>USV831</td>\n",
       "    </tr>\n",
       "    <tr>\n",
       "      <th>4</th>\n",
       "      <td>https://articulo.tucarro.com.co/MCO-551356381-...</td>\n",
       "      <td>115.475.000</td>\n",
       "      <td>2017 | 22320 km</td>\n",
       "      <td>Mercedes-benz Clase C C 200</td>\n",
       "      <td>MCO551356381</td>\n",
       "      <td>Mercedes-Benz</td>\n",
       "      <td>Clase C</td>\n",
       "      <td>C 200</td>\n",
       "      <td>2017</td>\n",
       "      <td>NaN</td>\n",
       "      <td>22.320 km</td>\n",
       "      <td>2</td>\n",
       "      <td>Gasolina</td>\n",
       "      <td>3</td>\n",
       "    </tr>\n",
       "  </tbody>\n",
       "</table>\n",
       "</div>"
      ],
      "text/plain": [
       "                                                 url        price  \\\n",
       "0  https://articulo.tucarro.com.co/MCO-548377895-...   26.900.000   \n",
       "1  https://articulo.tucarro.com.co/MCO-549745190-...   59.000.000   \n",
       "2  https://articulo.tucarro.com.co/MCO-552274120-...   66.000.000   \n",
       "3  https://articulo.tucarro.com.co/MCO-551514710-...   81.500.000   \n",
       "4  https://articulo.tucarro.com.co/MCO-551356381-...  115.475.000   \n",
       "\n",
       "               year                                           name  \\\n",
       "0  2005 | 140000 km                     Mercedes-benz Clase C C320   \n",
       "1   2012 | 59000 km  Mercedes-benz Clase C C200 Elegance 1.8 Turbo   \n",
       "2   2015 | 92000 km               Mercedes-benz Clase C Avantgrade   \n",
       "3   2016 | 34900 km           Mercedes-benz Clase C C200 Exclusive   \n",
       "4   2017 | 22320 km                    Mercedes-benz Clase C C 200   \n",
       "\n",
       "             ID          Marca   Modelo                  Versión   Año  \\\n",
       "0  MCO548377895  Mercedes-Benz  Clase C                     C320  2005   \n",
       "1  MCO549745190  Mercedes-Benz  Clase C  C200 Elegance 1.8 Turbo  2012   \n",
       "2  MCO552274120  Mercedes-Benz  Clase C               Avantgrade  2015   \n",
       "3  MCO551514710  Mercedes-Benz  Clase C           C200 EXCLUSIVE  2016   \n",
       "4  MCO551356381  Mercedes-Benz  Clase C                    C 200  2017   \n",
       "\n",
       "  Cilindrada  Kilómetros Puertas Tipo de combustible   Placa  \n",
       "0   3.199 cc  140.000 km       5            Gasolina  FAW265  \n",
       "1     1.8 cc   59.000 km       4            Gasolina  MBM947  \n",
       "2        NaN   92.000 km       5            Gasolina   impar  \n",
       "3    2000 cc   34.900 km       4            Gasolina  USV831  \n",
       "4        NaN   22.320 km       2            Gasolina       3  "
      ]
     },
     "execution_count": 12,
     "metadata": {},
     "output_type": "execute_result"
    }
   ],
   "source": [
    "df.head()"
   ]
  },
  {
   "cell_type": "markdown",
   "metadata": {},
   "source": [
    "Finally, we save our in csv format."
   ]
  },
  {
   "cell_type": "code",
   "execution_count": 13,
   "metadata": {},
   "outputs": [],
   "source": [
    "df.to_csv('files/vehicles.csv', index=False)"
   ]
  },
  {
   "cell_type": "markdown",
   "metadata": {},
   "source": [
    "# Clean Data"
   ]
  },
  {
   "cell_type": "code",
   "execution_count": 19,
   "metadata": {},
   "outputs": [],
   "source": [
    "df = pd.read_csv('files/vehicles.csv')  "
   ]
  },
  {
   "cell_type": "code",
   "execution_count": 20,
   "metadata": {},
   "outputs": [
    {
     "data": {
      "text/html": [
       "<div>\n",
       "<style scoped>\n",
       "    .dataframe tbody tr th:only-of-type {\n",
       "        vertical-align: middle;\n",
       "    }\n",
       "\n",
       "    .dataframe tbody tr th {\n",
       "        vertical-align: top;\n",
       "    }\n",
       "\n",
       "    .dataframe thead th {\n",
       "        text-align: right;\n",
       "    }\n",
       "</style>\n",
       "<table border=\"1\" class=\"dataframe\">\n",
       "  <thead>\n",
       "    <tr style=\"text-align: right;\">\n",
       "      <th></th>\n",
       "      <th>url</th>\n",
       "      <th>price</th>\n",
       "      <th>year</th>\n",
       "      <th>name</th>\n",
       "      <th>ID</th>\n",
       "      <th>Marca</th>\n",
       "      <th>Modelo</th>\n",
       "      <th>Versión</th>\n",
       "      <th>Año</th>\n",
       "      <th>Cilindrada</th>\n",
       "      <th>Kilómetros</th>\n",
       "      <th>Puertas</th>\n",
       "      <th>Tipo de combustible</th>\n",
       "      <th>Placa</th>\n",
       "    </tr>\n",
       "  </thead>\n",
       "  <tbody>\n",
       "    <tr>\n",
       "      <th>0</th>\n",
       "      <td>https://articulo.tucarro.com.co/MCO-548377895-...</td>\n",
       "      <td>26.900.000</td>\n",
       "      <td>2005 | 140000 km</td>\n",
       "      <td>Mercedes-benz Clase C C320</td>\n",
       "      <td>MCO548377895</td>\n",
       "      <td>Mercedes-Benz</td>\n",
       "      <td>Clase C</td>\n",
       "      <td>C320</td>\n",
       "      <td>2005</td>\n",
       "      <td>3.199 cc</td>\n",
       "      <td>140.000 km</td>\n",
       "      <td>5.0</td>\n",
       "      <td>Gasolina</td>\n",
       "      <td>FAW265</td>\n",
       "    </tr>\n",
       "    <tr>\n",
       "      <th>1</th>\n",
       "      <td>https://articulo.tucarro.com.co/MCO-549745190-...</td>\n",
       "      <td>59.000.000</td>\n",
       "      <td>2012 | 59000 km</td>\n",
       "      <td>Mercedes-benz Clase C C200 Elegance 1.8 Turbo</td>\n",
       "      <td>MCO549745190</td>\n",
       "      <td>Mercedes-Benz</td>\n",
       "      <td>Clase C</td>\n",
       "      <td>C200 Elegance 1.8 Turbo</td>\n",
       "      <td>2012</td>\n",
       "      <td>1.8 cc</td>\n",
       "      <td>59.000 km</td>\n",
       "      <td>4.0</td>\n",
       "      <td>Gasolina</td>\n",
       "      <td>MBM947</td>\n",
       "    </tr>\n",
       "    <tr>\n",
       "      <th>2</th>\n",
       "      <td>https://articulo.tucarro.com.co/MCO-552274120-...</td>\n",
       "      <td>66.000.000</td>\n",
       "      <td>2015 | 92000 km</td>\n",
       "      <td>Mercedes-benz Clase C Avantgrade</td>\n",
       "      <td>MCO552274120</td>\n",
       "      <td>Mercedes-Benz</td>\n",
       "      <td>Clase C</td>\n",
       "      <td>Avantgrade</td>\n",
       "      <td>2015</td>\n",
       "      <td>NaN</td>\n",
       "      <td>92.000 km</td>\n",
       "      <td>5.0</td>\n",
       "      <td>Gasolina</td>\n",
       "      <td>impar</td>\n",
       "    </tr>\n",
       "    <tr>\n",
       "      <th>3</th>\n",
       "      <td>https://articulo.tucarro.com.co/MCO-551514710-...</td>\n",
       "      <td>81.500.000</td>\n",
       "      <td>2016 | 34900 km</td>\n",
       "      <td>Mercedes-benz Clase C C200 Exclusive</td>\n",
       "      <td>MCO551514710</td>\n",
       "      <td>Mercedes-Benz</td>\n",
       "      <td>Clase C</td>\n",
       "      <td>C200 EXCLUSIVE</td>\n",
       "      <td>2016</td>\n",
       "      <td>2000 cc</td>\n",
       "      <td>34.900 km</td>\n",
       "      <td>4.0</td>\n",
       "      <td>Gasolina</td>\n",
       "      <td>USV831</td>\n",
       "    </tr>\n",
       "    <tr>\n",
       "      <th>4</th>\n",
       "      <td>https://articulo.tucarro.com.co/MCO-551356381-...</td>\n",
       "      <td>115.475.000</td>\n",
       "      <td>2017 | 22320 km</td>\n",
       "      <td>Mercedes-benz Clase C C 200</td>\n",
       "      <td>MCO551356381</td>\n",
       "      <td>Mercedes-Benz</td>\n",
       "      <td>Clase C</td>\n",
       "      <td>C 200</td>\n",
       "      <td>2017</td>\n",
       "      <td>NaN</td>\n",
       "      <td>22.320 km</td>\n",
       "      <td>2.0</td>\n",
       "      <td>Gasolina</td>\n",
       "      <td>3</td>\n",
       "    </tr>\n",
       "  </tbody>\n",
       "</table>\n",
       "</div>"
      ],
      "text/plain": [
       "                                                 url        price  \\\n",
       "0  https://articulo.tucarro.com.co/MCO-548377895-...   26.900.000   \n",
       "1  https://articulo.tucarro.com.co/MCO-549745190-...   59.000.000   \n",
       "2  https://articulo.tucarro.com.co/MCO-552274120-...   66.000.000   \n",
       "3  https://articulo.tucarro.com.co/MCO-551514710-...   81.500.000   \n",
       "4  https://articulo.tucarro.com.co/MCO-551356381-...  115.475.000   \n",
       "\n",
       "               year                                           name  \\\n",
       "0  2005 | 140000 km                     Mercedes-benz Clase C C320   \n",
       "1   2012 | 59000 km  Mercedes-benz Clase C C200 Elegance 1.8 Turbo   \n",
       "2   2015 | 92000 km               Mercedes-benz Clase C Avantgrade   \n",
       "3   2016 | 34900 km           Mercedes-benz Clase C C200 Exclusive   \n",
       "4   2017 | 22320 km                    Mercedes-benz Clase C C 200   \n",
       "\n",
       "             ID          Marca   Modelo                  Versión   Año  \\\n",
       "0  MCO548377895  Mercedes-Benz  Clase C                     C320  2005   \n",
       "1  MCO549745190  Mercedes-Benz  Clase C  C200 Elegance 1.8 Turbo  2012   \n",
       "2  MCO552274120  Mercedes-Benz  Clase C               Avantgrade  2015   \n",
       "3  MCO551514710  Mercedes-Benz  Clase C           C200 EXCLUSIVE  2016   \n",
       "4  MCO551356381  Mercedes-Benz  Clase C                    C 200  2017   \n",
       "\n",
       "  Cilindrada  Kilómetros  Puertas Tipo de combustible   Placa  \n",
       "0   3.199 cc  140.000 km      5.0            Gasolina  FAW265  \n",
       "1     1.8 cc   59.000 km      4.0            Gasolina  MBM947  \n",
       "2        NaN   92.000 km      5.0            Gasolina   impar  \n",
       "3    2000 cc   34.900 km      4.0            Gasolina  USV831  \n",
       "4        NaN   22.320 km      2.0            Gasolina       3  "
      ]
     },
     "execution_count": 20,
     "metadata": {},
     "output_type": "execute_result"
    }
   ],
   "source": [
    "df.head()"
   ]
  },
  {
   "cell_type": "code",
   "execution_count": 21,
   "metadata": {},
   "outputs": [
    {
     "name": "stdout",
     "output_type": "stream",
     "text": [
      "<class 'pandas.core.frame.DataFrame'>\n",
      "RangeIndex: 402 entries, 0 to 401\n",
      "Data columns (total 14 columns):\n",
      "url                    402 non-null object\n",
      "price                  402 non-null object\n",
      "year                   402 non-null object\n",
      "name                   402 non-null object\n",
      "ID                     402 non-null object\n",
      "Marca                  402 non-null object\n",
      "Modelo                 402 non-null object\n",
      "Versión                401 non-null object\n",
      "Año                    402 non-null int64\n",
      "Cilindrada             231 non-null object\n",
      "Kilómetros             402 non-null object\n",
      "Puertas                384 non-null float64\n",
      "Tipo de combustible    402 non-null object\n",
      "Placa                  395 non-null object\n",
      "dtypes: float64(1), int64(1), object(12)\n",
      "memory usage: 44.1+ KB\n"
     ]
    }
   ],
   "source": [
    "df.info()"
   ]
  },
  {
   "cell_type": "markdown",
   "metadata": {},
   "source": [
    "Let's rename our columns with proper python names."
   ]
  },
  {
   "cell_type": "code",
   "execution_count": 22,
   "metadata": {},
   "outputs": [],
   "source": [
    "df.rename(columns={'Año':'year2', \n",
    "                   'Marca':'brand', \n",
    "                   'Modelo':'model', \n",
    "                   'Versión':'version',\n",
    "                   'Cilindrada':'engine',\n",
    "                   'Kilómetros':'kms',\n",
    "                   'Puertas':'doors',\n",
    "                   'Tipo de combustible':'gasoline',\n",
    "                   'Placa':'plate'}, \n",
    "          inplace=True)"
   ]
  },
  {
   "cell_type": "code",
   "execution_count": 23,
   "metadata": {},
   "outputs": [
    {
     "data": {
      "text/html": [
       "<div>\n",
       "<style scoped>\n",
       "    .dataframe tbody tr th:only-of-type {\n",
       "        vertical-align: middle;\n",
       "    }\n",
       "\n",
       "    .dataframe tbody tr th {\n",
       "        vertical-align: top;\n",
       "    }\n",
       "\n",
       "    .dataframe thead th {\n",
       "        text-align: right;\n",
       "    }\n",
       "</style>\n",
       "<table border=\"1\" class=\"dataframe\">\n",
       "  <thead>\n",
       "    <tr style=\"text-align: right;\">\n",
       "      <th></th>\n",
       "      <th>url</th>\n",
       "      <th>price</th>\n",
       "      <th>year</th>\n",
       "      <th>name</th>\n",
       "      <th>ID</th>\n",
       "      <th>brand</th>\n",
       "      <th>model</th>\n",
       "      <th>version</th>\n",
       "      <th>year2</th>\n",
       "      <th>engine</th>\n",
       "      <th>kms</th>\n",
       "      <th>doors</th>\n",
       "      <th>gasoline</th>\n",
       "      <th>plate</th>\n",
       "    </tr>\n",
       "  </thead>\n",
       "  <tbody>\n",
       "    <tr>\n",
       "      <th>0</th>\n",
       "      <td>https://articulo.tucarro.com.co/MCO-548377895-...</td>\n",
       "      <td>26.900.000</td>\n",
       "      <td>2005 | 140000 km</td>\n",
       "      <td>Mercedes-benz Clase C C320</td>\n",
       "      <td>MCO548377895</td>\n",
       "      <td>Mercedes-Benz</td>\n",
       "      <td>Clase C</td>\n",
       "      <td>C320</td>\n",
       "      <td>2005</td>\n",
       "      <td>3.199 cc</td>\n",
       "      <td>140.000 km</td>\n",
       "      <td>5.0</td>\n",
       "      <td>Gasolina</td>\n",
       "      <td>FAW265</td>\n",
       "    </tr>\n",
       "    <tr>\n",
       "      <th>1</th>\n",
       "      <td>https://articulo.tucarro.com.co/MCO-549745190-...</td>\n",
       "      <td>59.000.000</td>\n",
       "      <td>2012 | 59000 km</td>\n",
       "      <td>Mercedes-benz Clase C C200 Elegance 1.8 Turbo</td>\n",
       "      <td>MCO549745190</td>\n",
       "      <td>Mercedes-Benz</td>\n",
       "      <td>Clase C</td>\n",
       "      <td>C200 Elegance 1.8 Turbo</td>\n",
       "      <td>2012</td>\n",
       "      <td>1.8 cc</td>\n",
       "      <td>59.000 km</td>\n",
       "      <td>4.0</td>\n",
       "      <td>Gasolina</td>\n",
       "      <td>MBM947</td>\n",
       "    </tr>\n",
       "    <tr>\n",
       "      <th>2</th>\n",
       "      <td>https://articulo.tucarro.com.co/MCO-552274120-...</td>\n",
       "      <td>66.000.000</td>\n",
       "      <td>2015 | 92000 km</td>\n",
       "      <td>Mercedes-benz Clase C Avantgrade</td>\n",
       "      <td>MCO552274120</td>\n",
       "      <td>Mercedes-Benz</td>\n",
       "      <td>Clase C</td>\n",
       "      <td>Avantgrade</td>\n",
       "      <td>2015</td>\n",
       "      <td>NaN</td>\n",
       "      <td>92.000 km</td>\n",
       "      <td>5.0</td>\n",
       "      <td>Gasolina</td>\n",
       "      <td>impar</td>\n",
       "    </tr>\n",
       "    <tr>\n",
       "      <th>3</th>\n",
       "      <td>https://articulo.tucarro.com.co/MCO-551514710-...</td>\n",
       "      <td>81.500.000</td>\n",
       "      <td>2016 | 34900 km</td>\n",
       "      <td>Mercedes-benz Clase C C200 Exclusive</td>\n",
       "      <td>MCO551514710</td>\n",
       "      <td>Mercedes-Benz</td>\n",
       "      <td>Clase C</td>\n",
       "      <td>C200 EXCLUSIVE</td>\n",
       "      <td>2016</td>\n",
       "      <td>2000 cc</td>\n",
       "      <td>34.900 km</td>\n",
       "      <td>4.0</td>\n",
       "      <td>Gasolina</td>\n",
       "      <td>USV831</td>\n",
       "    </tr>\n",
       "    <tr>\n",
       "      <th>4</th>\n",
       "      <td>https://articulo.tucarro.com.co/MCO-551356381-...</td>\n",
       "      <td>115.475.000</td>\n",
       "      <td>2017 | 22320 km</td>\n",
       "      <td>Mercedes-benz Clase C C 200</td>\n",
       "      <td>MCO551356381</td>\n",
       "      <td>Mercedes-Benz</td>\n",
       "      <td>Clase C</td>\n",
       "      <td>C 200</td>\n",
       "      <td>2017</td>\n",
       "      <td>NaN</td>\n",
       "      <td>22.320 km</td>\n",
       "      <td>2.0</td>\n",
       "      <td>Gasolina</td>\n",
       "      <td>3</td>\n",
       "    </tr>\n",
       "  </tbody>\n",
       "</table>\n",
       "</div>"
      ],
      "text/plain": [
       "                                                 url        price  \\\n",
       "0  https://articulo.tucarro.com.co/MCO-548377895-...   26.900.000   \n",
       "1  https://articulo.tucarro.com.co/MCO-549745190-...   59.000.000   \n",
       "2  https://articulo.tucarro.com.co/MCO-552274120-...   66.000.000   \n",
       "3  https://articulo.tucarro.com.co/MCO-551514710-...   81.500.000   \n",
       "4  https://articulo.tucarro.com.co/MCO-551356381-...  115.475.000   \n",
       "\n",
       "               year                                           name  \\\n",
       "0  2005 | 140000 km                     Mercedes-benz Clase C C320   \n",
       "1   2012 | 59000 km  Mercedes-benz Clase C C200 Elegance 1.8 Turbo   \n",
       "2   2015 | 92000 km               Mercedes-benz Clase C Avantgrade   \n",
       "3   2016 | 34900 km           Mercedes-benz Clase C C200 Exclusive   \n",
       "4   2017 | 22320 km                    Mercedes-benz Clase C C 200   \n",
       "\n",
       "             ID          brand    model                  version  year2  \\\n",
       "0  MCO548377895  Mercedes-Benz  Clase C                     C320   2005   \n",
       "1  MCO549745190  Mercedes-Benz  Clase C  C200 Elegance 1.8 Turbo   2012   \n",
       "2  MCO552274120  Mercedes-Benz  Clase C               Avantgrade   2015   \n",
       "3  MCO551514710  Mercedes-Benz  Clase C           C200 EXCLUSIVE   2016   \n",
       "4  MCO551356381  Mercedes-Benz  Clase C                    C 200   2017   \n",
       "\n",
       "     engine         kms  doors  gasoline   plate  \n",
       "0  3.199 cc  140.000 km    5.0  Gasolina  FAW265  \n",
       "1    1.8 cc   59.000 km    4.0  Gasolina  MBM947  \n",
       "2       NaN   92.000 km    5.0  Gasolina   impar  \n",
       "3   2000 cc   34.900 km    4.0  Gasolina  USV831  \n",
       "4       NaN   22.320 km    2.0  Gasolina       3  "
      ]
     },
     "execution_count": 23,
     "metadata": {},
     "output_type": "execute_result"
    }
   ],
   "source": [
    "df.head()"
   ]
  },
  {
   "cell_type": "markdown",
   "metadata": {},
   "source": [
    "So we can see, we have repeated information in the year and year2 columns. Also, we have columns that do not provide relevant information like model, brand, engine, doors, plate, ID, url "
   ]
  },
  {
   "cell_type": "code",
   "execution_count": 24,
   "metadata": {},
   "outputs": [],
   "source": [
    "df.drop(['url','year','ID','brand','model','engine','doors','gasoline','plate'], axis=1, inplace=True)\n",
    "df.rename(columns={'year2':'year'}, inplace=True)"
   ]
  },
  {
   "cell_type": "code",
   "execution_count": 25,
   "metadata": {},
   "outputs": [
    {
     "data": {
      "text/html": [
       "<div>\n",
       "<style scoped>\n",
       "    .dataframe tbody tr th:only-of-type {\n",
       "        vertical-align: middle;\n",
       "    }\n",
       "\n",
       "    .dataframe tbody tr th {\n",
       "        vertical-align: top;\n",
       "    }\n",
       "\n",
       "    .dataframe thead th {\n",
       "        text-align: right;\n",
       "    }\n",
       "</style>\n",
       "<table border=\"1\" class=\"dataframe\">\n",
       "  <thead>\n",
       "    <tr style=\"text-align: right;\">\n",
       "      <th></th>\n",
       "      <th>price</th>\n",
       "      <th>name</th>\n",
       "      <th>version</th>\n",
       "      <th>year</th>\n",
       "      <th>kms</th>\n",
       "    </tr>\n",
       "  </thead>\n",
       "  <tbody>\n",
       "    <tr>\n",
       "      <th>0</th>\n",
       "      <td>26.900.000</td>\n",
       "      <td>Mercedes-benz Clase C C320</td>\n",
       "      <td>C320</td>\n",
       "      <td>2005</td>\n",
       "      <td>140.000 km</td>\n",
       "    </tr>\n",
       "    <tr>\n",
       "      <th>1</th>\n",
       "      <td>59.000.000</td>\n",
       "      <td>Mercedes-benz Clase C C200 Elegance 1.8 Turbo</td>\n",
       "      <td>C200 Elegance 1.8 Turbo</td>\n",
       "      <td>2012</td>\n",
       "      <td>59.000 km</td>\n",
       "    </tr>\n",
       "    <tr>\n",
       "      <th>2</th>\n",
       "      <td>66.000.000</td>\n",
       "      <td>Mercedes-benz Clase C Avantgrade</td>\n",
       "      <td>Avantgrade</td>\n",
       "      <td>2015</td>\n",
       "      <td>92.000 km</td>\n",
       "    </tr>\n",
       "    <tr>\n",
       "      <th>3</th>\n",
       "      <td>81.500.000</td>\n",
       "      <td>Mercedes-benz Clase C C200 Exclusive</td>\n",
       "      <td>C200 EXCLUSIVE</td>\n",
       "      <td>2016</td>\n",
       "      <td>34.900 km</td>\n",
       "    </tr>\n",
       "    <tr>\n",
       "      <th>4</th>\n",
       "      <td>115.475.000</td>\n",
       "      <td>Mercedes-benz Clase C C 200</td>\n",
       "      <td>C 200</td>\n",
       "      <td>2017</td>\n",
       "      <td>22.320 km</td>\n",
       "    </tr>\n",
       "  </tbody>\n",
       "</table>\n",
       "</div>"
      ],
      "text/plain": [
       "         price                                           name  \\\n",
       "0   26.900.000                     Mercedes-benz Clase C C320   \n",
       "1   59.000.000  Mercedes-benz Clase C C200 Elegance 1.8 Turbo   \n",
       "2   66.000.000               Mercedes-benz Clase C Avantgrade   \n",
       "3   81.500.000           Mercedes-benz Clase C C200 Exclusive   \n",
       "4  115.475.000                    Mercedes-benz Clase C C 200   \n",
       "\n",
       "                   version  year         kms  \n",
       "0                     C320  2005  140.000 km  \n",
       "1  C200 Elegance 1.8 Turbo  2012   59.000 km  \n",
       "2               Avantgrade  2015   92.000 km  \n",
       "3           C200 EXCLUSIVE  2016   34.900 km  \n",
       "4                    C 200  2017   22.320 km  "
      ]
     },
     "execution_count": 25,
     "metadata": {},
     "output_type": "execute_result"
    }
   ],
   "source": [
    "df.head()"
   ]
  },
  {
   "cell_type": "code",
   "execution_count": 26,
   "metadata": {},
   "outputs": [
    {
     "name": "stdout",
     "output_type": "stream",
     "text": [
      "<class 'pandas.core.frame.DataFrame'>\n",
      "RangeIndex: 402 entries, 0 to 401\n",
      "Data columns (total 5 columns):\n",
      "price      402 non-null object\n",
      "name       402 non-null object\n",
      "version    401 non-null object\n",
      "year       402 non-null int64\n",
      "kms        402 non-null object\n",
      "dtypes: int64(1), object(4)\n",
      "memory usage: 15.8+ KB\n"
     ]
    }
   ],
   "source": [
    "df.info()"
   ]
  },
  {
   "cell_type": "markdown",
   "metadata": {},
   "source": [
    "We'll need to conver kms to numeric."
   ]
  },
  {
   "cell_type": "code",
   "execution_count": 27,
   "metadata": {},
   "outputs": [],
   "source": [
    "df.kms = df.kms.str.split(' ').str[0].str.replace('.','').astype(int)"
   ]
  },
  {
   "cell_type": "code",
   "execution_count": 28,
   "metadata": {},
   "outputs": [
    {
     "data": {
      "text/plain": [
       "0      140000\n",
       "1       59000\n",
       "2       92000\n",
       "3       34900\n",
       "4       22320\n",
       "        ...  \n",
       "397     66000\n",
       "398    101000\n",
       "399     45500\n",
       "400     10000\n",
       "401     22700\n",
       "Name: kms, Length: 402, dtype: int32"
      ]
     },
     "execution_count": 28,
     "metadata": {},
     "output_type": "execute_result"
    }
   ],
   "source": [
    "df.kms"
   ]
  },
  {
   "cell_type": "markdown",
   "metadata": {},
   "source": [
    "Also, our target variable price we have to change it to numeric and is in Millions of pesos. We can scale it to better manipulation."
   ]
  },
  {
   "cell_type": "code",
   "execution_count": 29,
   "metadata": {},
   "outputs": [
    {
     "data": {
      "text/plain": [
       "0       26.900.000\n",
       "1       59.000.000\n",
       "2       66.000.000\n",
       "3       81.500.000\n",
       "4      115.475.000\n",
       "          ...     \n",
       "397     60.000.000\n",
       "398     38.000.000\n",
       "399     59.000.000\n",
       "400     95.000.000\n",
       "401     84.000.000\n",
       "Name: price, Length: 402, dtype: object"
      ]
     },
     "execution_count": 29,
     "metadata": {},
     "output_type": "execute_result"
    }
   ],
   "source": [
    "df.price"
   ]
  },
  {
   "cell_type": "code",
   "execution_count": 30,
   "metadata": {},
   "outputs": [],
   "source": [
    "df.price = df.price.str.replace('.','').astype(int)\n",
    "df.price = df.price/1000000"
   ]
  },
  {
   "cell_type": "code",
   "execution_count": 31,
   "metadata": {},
   "outputs": [
    {
     "data": {
      "text/plain": [
       "0       26.900\n",
       "1       59.000\n",
       "2       66.000\n",
       "3       81.500\n",
       "4      115.475\n",
       "        ...   \n",
       "397     60.000\n",
       "398     38.000\n",
       "399     59.000\n",
       "400     95.000\n",
       "401     84.000\n",
       "Name: price, Length: 402, dtype: float64"
      ]
     },
     "execution_count": 31,
     "metadata": {},
     "output_type": "execute_result"
    }
   ],
   "source": [
    "df.price"
   ]
  },
  {
   "cell_type": "markdown",
   "metadata": {},
   "source": [
    "One important feature is the version of the vehicle. We have to options to get this information. Column Version and Column Name"
   ]
  },
  {
   "cell_type": "code",
   "execution_count": 32,
   "metadata": {},
   "outputs": [
    {
     "data": {
      "text/plain": [
       "27     180 CGI MT 1600 AA AB\n",
       "21          C 180 1.8 AT AMG\n",
       "316          C180 AVANTGARDE\n",
       "34                   180 CGI\n",
       "213          C180 Avantgarde\n",
       "Name: version, dtype: object"
      ]
     },
     "execution_count": 32,
     "metadata": {},
     "output_type": "execute_result"
    }
   ],
   "source": [
    "df.version.sample(5)"
   ]
  },
  {
   "cell_type": "code",
   "execution_count": 33,
   "metadata": {},
   "outputs": [
    {
     "data": {
      "text/plain": [
       "42     Mercedes-benz Clase C C 250 Cgi 1.8tp Avantgar...\n",
       "273                       Mercedes-benz Clase C C180 Cgi\n",
       "250                 Mercedes-benz Clase C C200 Exclusive\n",
       "301                   Mercedes-benz Clase C Kompressor T\n",
       "300                       Mercedes-benz Clase C C180 Cgi\n",
       "Name: name, dtype: object"
      ]
     },
     "execution_count": 33,
     "metadata": {},
     "output_type": "execute_result"
    }
   ],
   "source": [
    "df.name.sample(5)"
   ]
  },
  {
   "cell_type": "markdown",
   "metadata": {},
   "source": [
    "I will go with column Name as it looks more complete than version column. As this is a entry form, users tend to fill more complete information at the beginning rather than at the end."
   ]
  },
  {
   "cell_type": "code",
   "execution_count": 34,
   "metadata": {},
   "outputs": [],
   "source": [
    "df_version = df[df.name.str.contains(pat = VERSION)].copy()"
   ]
  },
  {
   "cell_type": "code",
   "execution_count": 35,
   "metadata": {},
   "outputs": [
    {
     "data": {
      "text/html": [
       "<div>\n",
       "<style scoped>\n",
       "    .dataframe tbody tr th:only-of-type {\n",
       "        vertical-align: middle;\n",
       "    }\n",
       "\n",
       "    .dataframe tbody tr th {\n",
       "        vertical-align: top;\n",
       "    }\n",
       "\n",
       "    .dataframe thead th {\n",
       "        text-align: right;\n",
       "    }\n",
       "</style>\n",
       "<table border=\"1\" class=\"dataframe\">\n",
       "  <thead>\n",
       "    <tr style=\"text-align: right;\">\n",
       "      <th></th>\n",
       "      <th>price</th>\n",
       "      <th>name</th>\n",
       "      <th>version</th>\n",
       "      <th>year</th>\n",
       "      <th>kms</th>\n",
       "    </tr>\n",
       "  </thead>\n",
       "  <tbody>\n",
       "    <tr>\n",
       "      <th>6</th>\n",
       "      <td>86.9</td>\n",
       "      <td>Mercedes-benz Clase C C180</td>\n",
       "      <td>C180</td>\n",
       "      <td>2017</td>\n",
       "      <td>13500</td>\n",
       "    </tr>\n",
       "    <tr>\n",
       "      <th>11</th>\n",
       "      <td>49.9</td>\n",
       "      <td>Mercedes-benz Clase C C180 Cgi</td>\n",
       "      <td>C180 CGI</td>\n",
       "      <td>2013</td>\n",
       "      <td>86000</td>\n",
       "    </tr>\n",
       "    <tr>\n",
       "      <th>13</th>\n",
       "      <td>28.5</td>\n",
       "      <td>Mercedes-benz Clase C Clase C 180</td>\n",
       "      <td>Clase C 180</td>\n",
       "      <td>2005</td>\n",
       "      <td>118500</td>\n",
       "    </tr>\n",
       "    <tr>\n",
       "      <th>16</th>\n",
       "      <td>110.0</td>\n",
       "      <td>Mercedes-benz Clase C C180 Avantgarde</td>\n",
       "      <td>C180 AVANTGARDE</td>\n",
       "      <td>2019</td>\n",
       "      <td>19500</td>\n",
       "    </tr>\n",
       "    <tr>\n",
       "      <th>21</th>\n",
       "      <td>32.0</td>\n",
       "      <td>Mercedes-benz Clase C C 180 1.8 At Amg</td>\n",
       "      <td>C 180 1.8 AT AMG</td>\n",
       "      <td>2006</td>\n",
       "      <td>114400</td>\n",
       "    </tr>\n",
       "  </tbody>\n",
       "</table>\n",
       "</div>"
      ],
      "text/plain": [
       "    price                                    name           version  year  \\\n",
       "6    86.9              Mercedes-benz Clase C C180              C180  2017   \n",
       "11   49.9          Mercedes-benz Clase C C180 Cgi          C180 CGI  2013   \n",
       "13   28.5       Mercedes-benz Clase C Clase C 180       Clase C 180  2005   \n",
       "16  110.0   Mercedes-benz Clase C C180 Avantgarde   C180 AVANTGARDE  2019   \n",
       "21   32.0  Mercedes-benz Clase C C 180 1.8 At Amg  C 180 1.8 AT AMG  2006   \n",
       "\n",
       "       kms  \n",
       "6    13500  \n",
       "11   86000  \n",
       "13  118500  \n",
       "16   19500  \n",
       "21  114400  "
      ]
     },
     "execution_count": 35,
     "metadata": {},
     "output_type": "execute_result"
    }
   ],
   "source": [
    "df_version.head()"
   ]
  },
  {
   "cell_type": "markdown",
   "metadata": {},
   "source": [
    "Finally we can drop the name and version columns."
   ]
  },
  {
   "cell_type": "code",
   "execution_count": 36,
   "metadata": {},
   "outputs": [],
   "source": [
    "df_version.drop(['name','version'], axis=1, inplace=True)"
   ]
  },
  {
   "cell_type": "code",
   "execution_count": 37,
   "metadata": {},
   "outputs": [
    {
     "data": {
      "text/html": [
       "<div>\n",
       "<style scoped>\n",
       "    .dataframe tbody tr th:only-of-type {\n",
       "        vertical-align: middle;\n",
       "    }\n",
       "\n",
       "    .dataframe tbody tr th {\n",
       "        vertical-align: top;\n",
       "    }\n",
       "\n",
       "    .dataframe thead th {\n",
       "        text-align: right;\n",
       "    }\n",
       "</style>\n",
       "<table border=\"1\" class=\"dataframe\">\n",
       "  <thead>\n",
       "    <tr style=\"text-align: right;\">\n",
       "      <th></th>\n",
       "      <th>price</th>\n",
       "      <th>year</th>\n",
       "      <th>kms</th>\n",
       "    </tr>\n",
       "  </thead>\n",
       "  <tbody>\n",
       "    <tr>\n",
       "      <th>6</th>\n",
       "      <td>86.9</td>\n",
       "      <td>2017</td>\n",
       "      <td>13500</td>\n",
       "    </tr>\n",
       "    <tr>\n",
       "      <th>11</th>\n",
       "      <td>49.9</td>\n",
       "      <td>2013</td>\n",
       "      <td>86000</td>\n",
       "    </tr>\n",
       "    <tr>\n",
       "      <th>13</th>\n",
       "      <td>28.5</td>\n",
       "      <td>2005</td>\n",
       "      <td>118500</td>\n",
       "    </tr>\n",
       "    <tr>\n",
       "      <th>16</th>\n",
       "      <td>110.0</td>\n",
       "      <td>2019</td>\n",
       "      <td>19500</td>\n",
       "    </tr>\n",
       "    <tr>\n",
       "      <th>21</th>\n",
       "      <td>32.0</td>\n",
       "      <td>2006</td>\n",
       "      <td>114400</td>\n",
       "    </tr>\n",
       "  </tbody>\n",
       "</table>\n",
       "</div>"
      ],
      "text/plain": [
       "    price  year     kms\n",
       "6    86.9  2017   13500\n",
       "11   49.9  2013   86000\n",
       "13   28.5  2005  118500\n",
       "16  110.0  2019   19500\n",
       "21   32.0  2006  114400"
      ]
     },
     "execution_count": 37,
     "metadata": {},
     "output_type": "execute_result"
    }
   ],
   "source": [
    "df_version.head()"
   ]
  },
  {
   "cell_type": "markdown",
   "metadata": {},
   "source": [
    "Ok, now lets write a function that does all of our data cleaning"
   ]
  },
  {
   "cell_type": "code",
   "execution_count": 62,
   "metadata": {},
   "outputs": [],
   "source": [
    "def prepareData(df):\n",
    "    # Rename columns\n",
    "    df.rename(columns={'Año':'year2', \n",
    "                   'Marca':'brand', \n",
    "                   'Modelo':'model', \n",
    "                   'Versión':'version',\n",
    "                   'Cilindrada':'engine',\n",
    "                   'Kilómetros':'kms',\n",
    "                   'Puertas':'doors',\n",
    "                   'Tipo de combustible':'gasoline',\n",
    "                   'Placa':'plate'}, \n",
    "          inplace=True)\n",
    "    \n",
    "    # Drop unnecessary Columns\n",
    "    df.drop(['url','year','ID','brand','model','engine','doors','gasoline','plate'], axis=1, inplace=True)\n",
    "    df.rename(columns={'year2':'year'}, inplace=True)\n",
    "    \n",
    "    # Transform kms to numeric\n",
    "    df.kms = df.kms.str.split(' ').str[0].str.replace('.','').astype(int)\n",
    "    \n",
    "    # Transform price to numeric and scale\n",
    "    df.price = df.price.str.replace('.','').astype(int)\n",
    "    df.price = df.price/1000000\n",
    "    \n",
    "    # Filter data by VERSION\n",
    "    df_version = df[df.name.str.contains(pat = VERSION)].copy()\n",
    "    df_version.drop(['name','version'], axis=1, inplace=True)\n",
    "    \n",
    "    # Reset Index\n",
    "    df_version.reset_index(inplace= True, drop = True)\n",
    "    \n",
    "    return df_version    "
   ]
  },
  {
   "cell_type": "markdown",
   "metadata": {},
   "source": [
    "Ok now let's test our function"
   ]
  },
  {
   "cell_type": "code",
   "execution_count": 68,
   "metadata": {},
   "outputs": [],
   "source": [
    "df = pd.read_csv('files/vehicles.csv')  "
   ]
  },
  {
   "cell_type": "code",
   "execution_count": 69,
   "metadata": {},
   "outputs": [],
   "source": [
    "df = prepareData(df)"
   ]
  },
  {
   "cell_type": "code",
   "execution_count": 70,
   "metadata": {},
   "outputs": [
    {
     "data": {
      "text/html": [
       "<div>\n",
       "<style scoped>\n",
       "    .dataframe tbody tr th:only-of-type {\n",
       "        vertical-align: middle;\n",
       "    }\n",
       "\n",
       "    .dataframe tbody tr th {\n",
       "        vertical-align: top;\n",
       "    }\n",
       "\n",
       "    .dataframe thead th {\n",
       "        text-align: right;\n",
       "    }\n",
       "</style>\n",
       "<table border=\"1\" class=\"dataframe\">\n",
       "  <thead>\n",
       "    <tr style=\"text-align: right;\">\n",
       "      <th></th>\n",
       "      <th>price</th>\n",
       "      <th>year</th>\n",
       "      <th>kms</th>\n",
       "    </tr>\n",
       "  </thead>\n",
       "  <tbody>\n",
       "    <tr>\n",
       "      <th>0</th>\n",
       "      <td>86.9</td>\n",
       "      <td>2017</td>\n",
       "      <td>13500</td>\n",
       "    </tr>\n",
       "    <tr>\n",
       "      <th>1</th>\n",
       "      <td>49.9</td>\n",
       "      <td>2013</td>\n",
       "      <td>86000</td>\n",
       "    </tr>\n",
       "    <tr>\n",
       "      <th>2</th>\n",
       "      <td>28.5</td>\n",
       "      <td>2005</td>\n",
       "      <td>118500</td>\n",
       "    </tr>\n",
       "    <tr>\n",
       "      <th>3</th>\n",
       "      <td>110.0</td>\n",
       "      <td>2019</td>\n",
       "      <td>19500</td>\n",
       "    </tr>\n",
       "    <tr>\n",
       "      <th>4</th>\n",
       "      <td>32.0</td>\n",
       "      <td>2006</td>\n",
       "      <td>114400</td>\n",
       "    </tr>\n",
       "  </tbody>\n",
       "</table>\n",
       "</div>"
      ],
      "text/plain": [
       "   price  year     kms\n",
       "0   86.9  2017   13500\n",
       "1   49.9  2013   86000\n",
       "2   28.5  2005  118500\n",
       "3  110.0  2019   19500\n",
       "4   32.0  2006  114400"
      ]
     },
     "execution_count": 70,
     "metadata": {},
     "output_type": "execute_result"
    }
   ],
   "source": [
    "df.head()"
   ]
  },
  {
   "cell_type": "markdown",
   "metadata": {},
   "source": [
    "## Data Assessment"
   ]
  },
  {
   "cell_type": "code",
   "execution_count": 84,
   "metadata": {},
   "outputs": [],
   "source": [
    "%matplotlib inline\n",
    "import matplotlib.pyplot as plt\n",
    "import numpy as np\n",
    "import seaborn as sns\n",
    "plt.style.use('ggplot')"
   ]
  },
  {
   "cell_type": "markdown",
   "metadata": {},
   "source": [
    "First lets check the distribution of our attributes"
   ]
  },
  {
   "cell_type": "code",
   "execution_count": 71,
   "metadata": {},
   "outputs": [
    {
     "data": {
      "text/html": [
       "<div>\n",
       "<style scoped>\n",
       "    .dataframe tbody tr th:only-of-type {\n",
       "        vertical-align: middle;\n",
       "    }\n",
       "\n",
       "    .dataframe tbody tr th {\n",
       "        vertical-align: top;\n",
       "    }\n",
       "\n",
       "    .dataframe thead th {\n",
       "        text-align: right;\n",
       "    }\n",
       "</style>\n",
       "<table border=\"1\" class=\"dataframe\">\n",
       "  <thead>\n",
       "    <tr style=\"text-align: right;\">\n",
       "      <th></th>\n",
       "      <th>price</th>\n",
       "      <th>year</th>\n",
       "      <th>kms</th>\n",
       "    </tr>\n",
       "  </thead>\n",
       "  <tbody>\n",
       "    <tr>\n",
       "      <th>0</th>\n",
       "      <td>86.9</td>\n",
       "      <td>2017</td>\n",
       "      <td>13500</td>\n",
       "    </tr>\n",
       "    <tr>\n",
       "      <th>1</th>\n",
       "      <td>49.9</td>\n",
       "      <td>2013</td>\n",
       "      <td>86000</td>\n",
       "    </tr>\n",
       "    <tr>\n",
       "      <th>2</th>\n",
       "      <td>28.5</td>\n",
       "      <td>2005</td>\n",
       "      <td>118500</td>\n",
       "    </tr>\n",
       "    <tr>\n",
       "      <th>3</th>\n",
       "      <td>110.0</td>\n",
       "      <td>2019</td>\n",
       "      <td>19500</td>\n",
       "    </tr>\n",
       "    <tr>\n",
       "      <th>4</th>\n",
       "      <td>32.0</td>\n",
       "      <td>2006</td>\n",
       "      <td>114400</td>\n",
       "    </tr>\n",
       "  </tbody>\n",
       "</table>\n",
       "</div>"
      ],
      "text/plain": [
       "   price  year     kms\n",
       "0   86.9  2017   13500\n",
       "1   49.9  2013   86000\n",
       "2   28.5  2005  118500\n",
       "3  110.0  2019   19500\n",
       "4   32.0  2006  114400"
      ]
     },
     "execution_count": 71,
     "metadata": {},
     "output_type": "execute_result"
    }
   ],
   "source": [
    "df.head()"
   ]
  },
  {
   "cell_type": "code",
   "execution_count": 72,
   "metadata": {},
   "outputs": [
    {
     "name": "stdout",
     "output_type": "stream",
     "text": [
      "<class 'pandas.core.frame.DataFrame'>\n",
      "RangeIndex: 162 entries, 0 to 161\n",
      "Data columns (total 3 columns):\n",
      "price    162 non-null float64\n",
      "year     162 non-null int64\n",
      "kms      162 non-null int32\n",
      "dtypes: float64(1), int32(1), int64(1)\n",
      "memory usage: 3.3 KB\n"
     ]
    }
   ],
   "source": [
    "df.info()"
   ]
  },
  {
   "cell_type": "markdown",
   "metadata": {},
   "source": [
    "### Year Attribute"
   ]
  },
  {
   "cell_type": "code",
   "execution_count": 79,
   "metadata": {},
   "outputs": [
    {
     "data": {
      "text/plain": [
       "count     162.000000\n",
       "mean     2012.320988\n",
       "std         5.800679\n",
       "min      1962.000000\n",
       "25%      2010.000000\n",
       "50%      2013.000000\n",
       "75%      2016.000000\n",
       "max      2020.000000\n",
       "Name: year, dtype: float64"
      ]
     },
     "execution_count": 79,
     "metadata": {},
     "output_type": "execute_result"
    }
   ],
   "source": [
    "df.year.describe()"
   ]
  },
  {
   "cell_type": "code",
   "execution_count": 73,
   "metadata": {},
   "outputs": [
    {
     "data": {
      "text/plain": [
       "Text(0, 0.5, 'Frequency')"
      ]
     },
     "execution_count": 73,
     "metadata": {},
     "output_type": "execute_result"
    },
    {
     "data": {
      "image/png": "[encoded data removed]",
      "text/plain": [
       "<Figure size 720x504 with 1 Axes>"
      ]
     },
     "metadata": {},
     "output_type": "display_data"
    }
   ],
   "source": [
    "# Histogram of the year model\n",
    "df.year.plot(kind='hist',color='purple',edgecolor='black',figsize=(10,7))\n",
    "plt.title('Distribution of Year Model', size=24)\n",
    "plt.xlabel('Year Model', size=18)\n",
    "plt.ylabel('Frequency', size=18)"
   ]
  },
  {
   "cell_type": "markdown",
   "metadata": {},
   "source": [
    "### Kms Attribute"
   ]
  },
  {
   "cell_type": "code",
   "execution_count": 80,
   "metadata": {},
   "outputs": [
    {
     "data": {
      "text/plain": [
       "count       162.000000\n",
       "mean      61958.302469\n",
       "std       39344.646442\n",
       "min           0.000000\n",
       "25%       31000.000000\n",
       "50%       60512.000000\n",
       "75%       88490.750000\n",
       "max      214000.000000\n",
       "Name: kms, dtype: float64"
      ]
     },
     "execution_count": 80,
     "metadata": {},
     "output_type": "execute_result"
    }
   ],
   "source": [
    "df.kms.describe()"
   ]
  },
  {
   "cell_type": "code",
   "execution_count": 78,
   "metadata": {},
   "outputs": [
    {
     "data": {
      "text/plain": [
       "Text(0, 0.5, 'Frequency')"
      ]
     },
     "execution_count": 78,
     "metadata": {},
     "output_type": "execute_result"
    },
    {
     "data": {
      "image/png": "[encoded data removed]",
      "text/plain": [
       "<Figure size 720x504 with 1 Axes>"
      ]
     },
     "metadata": {},
     "output_type": "display_data"
    }
   ],
   "source": [
    "# Histogram of the kms\n",
    "df.kms.plot(kind='hist',color='purple',edgecolor='black',figsize=(10,7), bins=20)\n",
    "plt.title('Distribution of kms', size=24)\n",
    "plt.xlabel('Kms', size=18)\n",
    "plt.ylabel('Frequency', size=18)"
   ]
  },
  {
   "cell_type": "markdown",
   "metadata": {},
   "source": [
    "### Price Target"
   ]
  },
  {
   "cell_type": "code",
   "execution_count": 81,
   "metadata": {},
   "outputs": [
    {
     "data": {
      "text/plain": [
       "count    162.000000\n",
       "mean      61.392901\n",
       "std       25.352529\n",
       "min       19.500000\n",
       "25%       42.225000\n",
       "50%       58.000000\n",
       "75%       76.400000\n",
       "max      131.900000\n",
       "Name: price, dtype: float64"
      ]
     },
     "execution_count": 81,
     "metadata": {},
     "output_type": "execute_result"
    }
   ],
   "source": [
    "df.price.describe()"
   ]
  },
  {
   "cell_type": "code",
   "execution_count": 82,
   "metadata": {},
   "outputs": [
    {
     "data": {
      "text/plain": [
       "Text(0, 0.5, 'Frequency')"
      ]
     },
     "execution_count": 82,
     "metadata": {},
     "output_type": "execute_result"
    },
    {
     "data": {
      "image/png": "[encoded data removed]",
      "text/plain": [
       "<Figure size 720x504 with 1 Axes>"
      ]
     },
     "metadata": {},
     "output_type": "display_data"
    }
   ],
   "source": [
    "# Histogram of price\n",
    "df.price.plot(kind='hist',color='purple',edgecolor='black',figsize=(10,7), bins=13)\n",
    "plt.title('Distribution of Price', size=24)\n",
    "plt.xlabel('Price Bins', size=18)\n",
    "plt.ylabel('Frequency', size=18)"
   ]
  },
  {
   "cell_type": "markdown",
   "metadata": {},
   "source": [
    "### Distributions by Year Model"
   ]
  },
  {
   "cell_type": "markdown",
   "metadata": {},
   "source": [
    "Let's check the distributions based on year models."
   ]
  },
  {
   "cell_type": "code",
   "execution_count": 91,
   "metadata": {},
   "outputs": [],
   "source": [
    "df_year = df.groupby(df.year)"
   ]
  },
  {
   "cell_type": "code",
   "execution_count": 92,
   "metadata": {},
   "outputs": [
    {
     "data": {
      "text/html": [
       "<div>\n",
       "<style scoped>\n",
       "    .dataframe tbody tr th:only-of-type {\n",
       "        vertical-align: middle;\n",
       "    }\n",
       "\n",
       "    .dataframe tbody tr th {\n",
       "        vertical-align: top;\n",
       "    }\n",
       "\n",
       "    .dataframe thead th {\n",
       "        text-align: right;\n",
       "    }\n",
       "</style>\n",
       "<table border=\"1\" class=\"dataframe\">\n",
       "  <thead>\n",
       "    <tr style=\"text-align: right;\">\n",
       "      <th></th>\n",
       "      <th>count</th>\n",
       "      <th>mean</th>\n",
       "      <th>std</th>\n",
       "      <th>min</th>\n",
       "      <th>25%</th>\n",
       "      <th>50%</th>\n",
       "      <th>75%</th>\n",
       "      <th>max</th>\n",
       "    </tr>\n",
       "    <tr>\n",
       "      <th>year</th>\n",
       "      <th></th>\n",
       "      <th></th>\n",
       "      <th></th>\n",
       "      <th></th>\n",
       "      <th></th>\n",
       "      <th></th>\n",
       "      <th></th>\n",
       "      <th></th>\n",
       "    </tr>\n",
       "  </thead>\n",
       "  <tbody>\n",
       "    <tr>\n",
       "      <th>1962</th>\n",
       "      <td>1.0</td>\n",
       "      <td>25.000000</td>\n",
       "      <td>NaN</td>\n",
       "      <td>25.00</td>\n",
       "      <td>25.0000</td>\n",
       "      <td>25.000</td>\n",
       "      <td>25.000</td>\n",
       "      <td>25.0</td>\n",
       "    </tr>\n",
       "    <tr>\n",
       "      <th>1998</th>\n",
       "      <td>1.0</td>\n",
       "      <td>20.000000</td>\n",
       "      <td>NaN</td>\n",
       "      <td>20.00</td>\n",
       "      <td>20.0000</td>\n",
       "      <td>20.000</td>\n",
       "      <td>20.000</td>\n",
       "      <td>20.0</td>\n",
       "    </tr>\n",
       "    <tr>\n",
       "      <th>1999</th>\n",
       "      <td>1.0</td>\n",
       "      <td>19.500000</td>\n",
       "      <td>NaN</td>\n",
       "      <td>19.50</td>\n",
       "      <td>19.5000</td>\n",
       "      <td>19.500</td>\n",
       "      <td>19.500</td>\n",
       "      <td>19.5</td>\n",
       "    </tr>\n",
       "    <tr>\n",
       "      <th>2003</th>\n",
       "      <td>1.0</td>\n",
       "      <td>22.000000</td>\n",
       "      <td>NaN</td>\n",
       "      <td>22.00</td>\n",
       "      <td>22.0000</td>\n",
       "      <td>22.000</td>\n",
       "      <td>22.000</td>\n",
       "      <td>22.0</td>\n",
       "    </tr>\n",
       "    <tr>\n",
       "      <th>2005</th>\n",
       "      <td>3.0</td>\n",
       "      <td>29.466667</td>\n",
       "      <td>1.342882</td>\n",
       "      <td>28.50</td>\n",
       "      <td>28.7000</td>\n",
       "      <td>28.900</td>\n",
       "      <td>29.950</td>\n",
       "      <td>31.0</td>\n",
       "    </tr>\n",
       "    <tr>\n",
       "      <th>2006</th>\n",
       "      <td>8.0</td>\n",
       "      <td>30.212500</td>\n",
       "      <td>1.398405</td>\n",
       "      <td>27.50</td>\n",
       "      <td>29.7250</td>\n",
       "      <td>30.200</td>\n",
       "      <td>31.125</td>\n",
       "      <td>32.0</td>\n",
       "    </tr>\n",
       "    <tr>\n",
       "      <th>2007</th>\n",
       "      <td>9.0</td>\n",
       "      <td>34.232222</td>\n",
       "      <td>3.976725</td>\n",
       "      <td>30.00</td>\n",
       "      <td>31.9000</td>\n",
       "      <td>33.490</td>\n",
       "      <td>35.000</td>\n",
       "      <td>43.5</td>\n",
       "    </tr>\n",
       "    <tr>\n",
       "      <th>2008</th>\n",
       "      <td>3.0</td>\n",
       "      <td>39.100000</td>\n",
       "      <td>6.436614</td>\n",
       "      <td>34.80</td>\n",
       "      <td>35.4000</td>\n",
       "      <td>36.000</td>\n",
       "      <td>41.250</td>\n",
       "      <td>46.5</td>\n",
       "    </tr>\n",
       "    <tr>\n",
       "      <th>2009</th>\n",
       "      <td>13.0</td>\n",
       "      <td>38.753846</td>\n",
       "      <td>4.251395</td>\n",
       "      <td>33.90</td>\n",
       "      <td>35.7000</td>\n",
       "      <td>38.000</td>\n",
       "      <td>38.900</td>\n",
       "      <td>48.0</td>\n",
       "    </tr>\n",
       "    <tr>\n",
       "      <th>2010</th>\n",
       "      <td>4.0</td>\n",
       "      <td>41.222500</td>\n",
       "      <td>5.840436</td>\n",
       "      <td>34.99</td>\n",
       "      <td>37.2475</td>\n",
       "      <td>40.950</td>\n",
       "      <td>44.925</td>\n",
       "      <td>48.0</td>\n",
       "    </tr>\n",
       "    <tr>\n",
       "      <th>2011</th>\n",
       "      <td>9.0</td>\n",
       "      <td>45.677778</td>\n",
       "      <td>5.442605</td>\n",
       "      <td>36.90</td>\n",
       "      <td>41.8000</td>\n",
       "      <td>46.000</td>\n",
       "      <td>48.500</td>\n",
       "      <td>54.0</td>\n",
       "    </tr>\n",
       "    <tr>\n",
       "      <th>2012</th>\n",
       "      <td>25.0</td>\n",
       "      <td>53.384000</td>\n",
       "      <td>7.711392</td>\n",
       "      <td>44.90</td>\n",
       "      <td>47.9000</td>\n",
       "      <td>52.000</td>\n",
       "      <td>56.000</td>\n",
       "      <td>83.0</td>\n",
       "    </tr>\n",
       "    <tr>\n",
       "      <th>2013</th>\n",
       "      <td>17.0</td>\n",
       "      <td>57.900000</td>\n",
       "      <td>6.003228</td>\n",
       "      <td>49.90</td>\n",
       "      <td>51.0000</td>\n",
       "      <td>59.900</td>\n",
       "      <td>61.900</td>\n",
       "      <td>69.0</td>\n",
       "    </tr>\n",
       "    <tr>\n",
       "      <th>2014</th>\n",
       "      <td>11.0</td>\n",
       "      <td>63.990909</td>\n",
       "      <td>5.129611</td>\n",
       "      <td>58.90</td>\n",
       "      <td>61.0000</td>\n",
       "      <td>62.000</td>\n",
       "      <td>65.450</td>\n",
       "      <td>76.5</td>\n",
       "    </tr>\n",
       "    <tr>\n",
       "      <th>2015</th>\n",
       "      <td>12.0</td>\n",
       "      <td>69.833333</td>\n",
       "      <td>4.902380</td>\n",
       "      <td>58.00</td>\n",
       "      <td>67.6500</td>\n",
       "      <td>70.000</td>\n",
       "      <td>73.475</td>\n",
       "      <td>76.0</td>\n",
       "    </tr>\n",
       "    <tr>\n",
       "      <th>2016</th>\n",
       "      <td>16.0</td>\n",
       "      <td>79.887500</td>\n",
       "      <td>7.802980</td>\n",
       "      <td>70.00</td>\n",
       "      <td>76.7750</td>\n",
       "      <td>79.400</td>\n",
       "      <td>80.625</td>\n",
       "      <td>105.0</td>\n",
       "    </tr>\n",
       "    <tr>\n",
       "      <th>2017</th>\n",
       "      <td>10.0</td>\n",
       "      <td>86.348000</td>\n",
       "      <td>5.226760</td>\n",
       "      <td>75.30</td>\n",
       "      <td>84.5175</td>\n",
       "      <td>86.945</td>\n",
       "      <td>87.750</td>\n",
       "      <td>94.0</td>\n",
       "    </tr>\n",
       "    <tr>\n",
       "      <th>2018</th>\n",
       "      <td>3.0</td>\n",
       "      <td>99.333333</td>\n",
       "      <td>4.041452</td>\n",
       "      <td>95.00</td>\n",
       "      <td>97.5000</td>\n",
       "      <td>100.000</td>\n",
       "      <td>101.500</td>\n",
       "      <td>103.0</td>\n",
       "    </tr>\n",
       "    <tr>\n",
       "      <th>2019</th>\n",
       "      <td>7.0</td>\n",
       "      <td>108.157143</td>\n",
       "      <td>6.151384</td>\n",
       "      <td>99.10</td>\n",
       "      <td>105.0000</td>\n",
       "      <td>109.000</td>\n",
       "      <td>110.000</td>\n",
       "      <td>119.0</td>\n",
       "    </tr>\n",
       "    <tr>\n",
       "      <th>2020</th>\n",
       "      <td>8.0</td>\n",
       "      <td>120.786250</td>\n",
       "      <td>9.552297</td>\n",
       "      <td>111.90</td>\n",
       "      <td>112.6500</td>\n",
       "      <td>116.945</td>\n",
       "      <td>131.900</td>\n",
       "      <td>131.9</td>\n",
       "    </tr>\n",
       "  </tbody>\n",
       "</table>\n",
       "</div>"
      ],
      "text/plain": [
       "      count        mean       std     min       25%      50%      75%    max\n",
       "year                                                                        \n",
       "1962    1.0   25.000000       NaN   25.00   25.0000   25.000   25.000   25.0\n",
       "1998    1.0   20.000000       NaN   20.00   20.0000   20.000   20.000   20.0\n",
       "1999    1.0   19.500000       NaN   19.50   19.5000   19.500   19.500   19.5\n",
       "2003    1.0   22.000000       NaN   22.00   22.0000   22.000   22.000   22.0\n",
       "2005    3.0   29.466667  1.342882   28.50   28.7000   28.900   29.950   31.0\n",
       "2006    8.0   30.212500  1.398405   27.50   29.7250   30.200   31.125   32.0\n",
       "2007    9.0   34.232222  3.976725   30.00   31.9000   33.490   35.000   43.5\n",
       "2008    3.0   39.100000  6.436614   34.80   35.4000   36.000   41.250   46.5\n",
       "2009   13.0   38.753846  4.251395   33.90   35.7000   38.000   38.900   48.0\n",
       "2010    4.0   41.222500  5.840436   34.99   37.2475   40.950   44.925   48.0\n",
       "2011    9.0   45.677778  5.442605   36.90   41.8000   46.000   48.500   54.0\n",
       "2012   25.0   53.384000  7.711392   44.90   47.9000   52.000   56.000   83.0\n",
       "2013   17.0   57.900000  6.003228   49.90   51.0000   59.900   61.900   69.0\n",
       "2014   11.0   63.990909  5.129611   58.90   61.0000   62.000   65.450   76.5\n",
       "2015   12.0   69.833333  4.902380   58.00   67.6500   70.000   73.475   76.0\n",
       "2016   16.0   79.887500  7.802980   70.00   76.7750   79.400   80.625  105.0\n",
       "2017   10.0   86.348000  5.226760   75.30   84.5175   86.945   87.750   94.0\n",
       "2018    3.0   99.333333  4.041452   95.00   97.5000  100.000  101.500  103.0\n",
       "2019    7.0  108.157143  6.151384   99.10  105.0000  109.000  110.000  119.0\n",
       "2020    8.0  120.786250  9.552297  111.90  112.6500  116.945  131.900  131.9"
      ]
     },
     "execution_count": 92,
     "metadata": {},
     "output_type": "execute_result"
    }
   ],
   "source": [
    "df_year.price.describe()"
   ]
  },
  {
   "cell_type": "code",
   "execution_count": 88,
   "metadata": {},
   "outputs": [
    {
     "data": {
      "text/plain": [
       "Text(3.6750000000000043, 0.5, 'Frequency')"
      ]
     },
     "execution_count": 88,
     "metadata": {},
     "output_type": "execute_result"
    },
    {
     "data": {
      "image/png": "[encoded data removed]",
      "text/plain": [
       "<Figure size 900x360 with 1 Axes>"
      ]
     },
     "metadata": {
      "needs_background": "light"
     },
     "output_type": "display_data"
    }
   ],
   "source": [
    "# Histogram of price by Year Model\n",
    "sns.catplot(x=\"year\", y=\"price\", kind=\"box\", data = df, height=5, aspect=2.5 )\n",
    "plt.title('Distribution of Price by Year', size=24)\n",
    "plt.xlabel('Year Model', size=18)\n",
    "plt.ylabel('Price', size=18)"
   ]
  },
  {
   "cell_type": "code",
   "execution_count": 93,
   "metadata": {},
   "outputs": [
    {
     "data": {
      "text/html": [
       "<div>\n",
       "<style scoped>\n",
       "    .dataframe tbody tr th:only-of-type {\n",
       "        vertical-align: middle;\n",
       "    }\n",
       "\n",
       "    .dataframe tbody tr th {\n",
       "        vertical-align: top;\n",
       "    }\n",
       "\n",
       "    .dataframe thead th {\n",
       "        text-align: right;\n",
       "    }\n",
       "</style>\n",
       "<table border=\"1\" class=\"dataframe\">\n",
       "  <thead>\n",
       "    <tr style=\"text-align: right;\">\n",
       "      <th></th>\n",
       "      <th>count</th>\n",
       "      <th>mean</th>\n",
       "      <th>std</th>\n",
       "      <th>min</th>\n",
       "      <th>25%</th>\n",
       "      <th>50%</th>\n",
       "      <th>75%</th>\n",
       "      <th>max</th>\n",
       "    </tr>\n",
       "    <tr>\n",
       "      <th>year</th>\n",
       "      <th></th>\n",
       "      <th></th>\n",
       "      <th></th>\n",
       "      <th></th>\n",
       "      <th></th>\n",
       "      <th></th>\n",
       "      <th></th>\n",
       "      <th></th>\n",
       "    </tr>\n",
       "  </thead>\n",
       "  <tbody>\n",
       "    <tr>\n",
       "      <th>1962</th>\n",
       "      <td>1.0</td>\n",
       "      <td>96000.000000</td>\n",
       "      <td>NaN</td>\n",
       "      <td>96000.0</td>\n",
       "      <td>96000.0</td>\n",
       "      <td>96000.0</td>\n",
       "      <td>96000.00</td>\n",
       "      <td>96000.0</td>\n",
       "    </tr>\n",
       "    <tr>\n",
       "      <th>1998</th>\n",
       "      <td>1.0</td>\n",
       "      <td>120000.000000</td>\n",
       "      <td>NaN</td>\n",
       "      <td>120000.0</td>\n",
       "      <td>120000.0</td>\n",
       "      <td>120000.0</td>\n",
       "      <td>120000.00</td>\n",
       "      <td>120000.0</td>\n",
       "    </tr>\n",
       "    <tr>\n",
       "      <th>1999</th>\n",
       "      <td>1.0</td>\n",
       "      <td>200000.000000</td>\n",
       "      <td>NaN</td>\n",
       "      <td>200000.0</td>\n",
       "      <td>200000.0</td>\n",
       "      <td>200000.0</td>\n",
       "      <td>200000.00</td>\n",
       "      <td>200000.0</td>\n",
       "    </tr>\n",
       "    <tr>\n",
       "      <th>2003</th>\n",
       "      <td>1.0</td>\n",
       "      <td>214000.000000</td>\n",
       "      <td>NaN</td>\n",
       "      <td>214000.0</td>\n",
       "      <td>214000.0</td>\n",
       "      <td>214000.0</td>\n",
       "      <td>214000.00</td>\n",
       "      <td>214000.0</td>\n",
       "    </tr>\n",
       "    <tr>\n",
       "      <th>2005</th>\n",
       "      <td>3.0</td>\n",
       "      <td>108500.000000</td>\n",
       "      <td>20426.698216</td>\n",
       "      <td>85000.0</td>\n",
       "      <td>101750.0</td>\n",
       "      <td>118500.0</td>\n",
       "      <td>120250.00</td>\n",
       "      <td>122000.0</td>\n",
       "    </tr>\n",
       "    <tr>\n",
       "      <th>2006</th>\n",
       "      <td>8.0</td>\n",
       "      <td>118736.125000</td>\n",
       "      <td>21781.942327</td>\n",
       "      <td>93000.0</td>\n",
       "      <td>104250.0</td>\n",
       "      <td>115450.0</td>\n",
       "      <td>126747.25</td>\n",
       "      <td>152000.0</td>\n",
       "    </tr>\n",
       "    <tr>\n",
       "      <th>2007</th>\n",
       "      <td>9.0</td>\n",
       "      <td>93626.000000</td>\n",
       "      <td>20523.622993</td>\n",
       "      <td>63000.0</td>\n",
       "      <td>85000.0</td>\n",
       "      <td>91800.0</td>\n",
       "      <td>110000.00</td>\n",
       "      <td>120000.0</td>\n",
       "    </tr>\n",
       "    <tr>\n",
       "      <th>2008</th>\n",
       "      <td>3.0</td>\n",
       "      <td>107133.333333</td>\n",
       "      <td>12339.097752</td>\n",
       "      <td>95400.0</td>\n",
       "      <td>100700.0</td>\n",
       "      <td>106000.0</td>\n",
       "      <td>113000.00</td>\n",
       "      <td>120000.0</td>\n",
       "    </tr>\n",
       "    <tr>\n",
       "      <th>2009</th>\n",
       "      <td>13.0</td>\n",
       "      <td>95558.923077</td>\n",
       "      <td>32180.384215</td>\n",
       "      <td>26900.0</td>\n",
       "      <td>84651.0</td>\n",
       "      <td>91000.0</td>\n",
       "      <td>110000.00</td>\n",
       "      <td>156000.0</td>\n",
       "    </tr>\n",
       "    <tr>\n",
       "      <th>2010</th>\n",
       "      <td>4.0</td>\n",
       "      <td>75254.500000</td>\n",
       "      <td>28317.307093</td>\n",
       "      <td>41918.0</td>\n",
       "      <td>56904.5</td>\n",
       "      <td>78450.0</td>\n",
       "      <td>96800.00</td>\n",
       "      <td>102200.0</td>\n",
       "    </tr>\n",
       "    <tr>\n",
       "      <th>2011</th>\n",
       "      <td>9.0</td>\n",
       "      <td>74913.333333</td>\n",
       "      <td>15447.818616</td>\n",
       "      <td>44500.0</td>\n",
       "      <td>71000.0</td>\n",
       "      <td>78000.0</td>\n",
       "      <td>82500.00</td>\n",
       "      <td>95000.0</td>\n",
       "    </tr>\n",
       "    <tr>\n",
       "      <th>2012</th>\n",
       "      <td>25.0</td>\n",
       "      <td>75430.480000</td>\n",
       "      <td>19422.397537</td>\n",
       "      <td>25700.0</td>\n",
       "      <td>64000.0</td>\n",
       "      <td>70966.0</td>\n",
       "      <td>85000.00</td>\n",
       "      <td>114000.0</td>\n",
       "    </tr>\n",
       "    <tr>\n",
       "      <th>2013</th>\n",
       "      <td>17.0</td>\n",
       "      <td>50282.647059</td>\n",
       "      <td>17620.638088</td>\n",
       "      <td>24000.0</td>\n",
       "      <td>39538.0</td>\n",
       "      <td>48000.0</td>\n",
       "      <td>62000.00</td>\n",
       "      <td>86000.0</td>\n",
       "    </tr>\n",
       "    <tr>\n",
       "      <th>2014</th>\n",
       "      <td>11.0</td>\n",
       "      <td>38872.363636</td>\n",
       "      <td>12000.600879</td>\n",
       "      <td>21000.0</td>\n",
       "      <td>29823.0</td>\n",
       "      <td>39900.0</td>\n",
       "      <td>45525.00</td>\n",
       "      <td>58000.0</td>\n",
       "    </tr>\n",
       "    <tr>\n",
       "      <th>2015</th>\n",
       "      <td>12.0</td>\n",
       "      <td>47525.000000</td>\n",
       "      <td>12849.274829</td>\n",
       "      <td>31000.0</td>\n",
       "      <td>37500.0</td>\n",
       "      <td>47600.0</td>\n",
       "      <td>55075.00</td>\n",
       "      <td>72000.0</td>\n",
       "    </tr>\n",
       "    <tr>\n",
       "      <th>2016</th>\n",
       "      <td>16.0</td>\n",
       "      <td>35734.250000</td>\n",
       "      <td>17831.107677</td>\n",
       "      <td>8100.0</td>\n",
       "      <td>26250.0</td>\n",
       "      <td>32786.0</td>\n",
       "      <td>44500.00</td>\n",
       "      <td>71172.0</td>\n",
       "    </tr>\n",
       "    <tr>\n",
       "      <th>2017</th>\n",
       "      <td>10.0</td>\n",
       "      <td>29568.800000</td>\n",
       "      <td>13760.705471</td>\n",
       "      <td>9500.0</td>\n",
       "      <td>27335.5</td>\n",
       "      <td>27924.5</td>\n",
       "      <td>33493.25</td>\n",
       "      <td>60024.0</td>\n",
       "    </tr>\n",
       "    <tr>\n",
       "      <th>2018</th>\n",
       "      <td>3.0</td>\n",
       "      <td>13600.000000</td>\n",
       "      <td>4028.647416</td>\n",
       "      <td>9000.0</td>\n",
       "      <td>12150.0</td>\n",
       "      <td>15300.0</td>\n",
       "      <td>15900.00</td>\n",
       "      <td>16500.0</td>\n",
       "    </tr>\n",
       "    <tr>\n",
       "      <th>2019</th>\n",
       "      <td>7.0</td>\n",
       "      <td>11324.142857</td>\n",
       "      <td>7280.181326</td>\n",
       "      <td>1832.0</td>\n",
       "      <td>5500.0</td>\n",
       "      <td>12621.0</td>\n",
       "      <td>17158.00</td>\n",
       "      <td>19500.0</td>\n",
       "    </tr>\n",
       "    <tr>\n",
       "      <th>2020</th>\n",
       "      <td>8.0</td>\n",
       "      <td>3043.750000</td>\n",
       "      <td>3452.890870</td>\n",
       "      <td>0.0</td>\n",
       "      <td>0.0</td>\n",
       "      <td>2850.0</td>\n",
       "      <td>3687.50</td>\n",
       "      <td>10100.0</td>\n",
       "    </tr>\n",
       "  </tbody>\n",
       "</table>\n",
       "</div>"
      ],
      "text/plain": [
       "      count           mean           std       min       25%       50%  \\\n",
       "year                                                                     \n",
       "1962    1.0   96000.000000           NaN   96000.0   96000.0   96000.0   \n",
       "1998    1.0  120000.000000           NaN  120000.0  120000.0  120000.0   \n",
       "1999    1.0  200000.000000           NaN  200000.0  200000.0  200000.0   \n",
       "2003    1.0  214000.000000           NaN  214000.0  214000.0  214000.0   \n",
       "2005    3.0  108500.000000  20426.698216   85000.0  101750.0  118500.0   \n",
       "2006    8.0  118736.125000  21781.942327   93000.0  104250.0  115450.0   \n",
       "2007    9.0   93626.000000  20523.622993   63000.0   85000.0   91800.0   \n",
       "2008    3.0  107133.333333  12339.097752   95400.0  100700.0  106000.0   \n",
       "2009   13.0   95558.923077  32180.384215   26900.0   84651.0   91000.0   \n",
       "2010    4.0   75254.500000  28317.307093   41918.0   56904.5   78450.0   \n",
       "2011    9.0   74913.333333  15447.818616   44500.0   71000.0   78000.0   \n",
       "2012   25.0   75430.480000  19422.397537   25700.0   64000.0   70966.0   \n",
       "2013   17.0   50282.647059  17620.638088   24000.0   39538.0   48000.0   \n",
       "2014   11.0   38872.363636  12000.600879   21000.0   29823.0   39900.0   \n",
       "2015   12.0   47525.000000  12849.274829   31000.0   37500.0   47600.0   \n",
       "2016   16.0   35734.250000  17831.107677    8100.0   26250.0   32786.0   \n",
       "2017   10.0   29568.800000  13760.705471    9500.0   27335.5   27924.5   \n",
       "2018    3.0   13600.000000   4028.647416    9000.0   12150.0   15300.0   \n",
       "2019    7.0   11324.142857   7280.181326    1832.0    5500.0   12621.0   \n",
       "2020    8.0    3043.750000   3452.890870       0.0       0.0    2850.0   \n",
       "\n",
       "            75%       max  \n",
       "year                       \n",
       "1962   96000.00   96000.0  \n",
       "1998  120000.00  120000.0  \n",
       "1999  200000.00  200000.0  \n",
       "2003  214000.00  214000.0  \n",
       "2005  120250.00  122000.0  \n",
       "2006  126747.25  152000.0  \n",
       "2007  110000.00  120000.0  \n",
       "2008  113000.00  120000.0  \n",
       "2009  110000.00  156000.0  \n",
       "2010   96800.00  102200.0  \n",
       "2011   82500.00   95000.0  \n",
       "2012   85000.00  114000.0  \n",
       "2013   62000.00   86000.0  \n",
       "2014   45525.00   58000.0  \n",
       "2015   55075.00   72000.0  \n",
       "2016   44500.00   71172.0  \n",
       "2017   33493.25   60024.0  \n",
       "2018   15900.00   16500.0  \n",
       "2019   17158.00   19500.0  \n",
       "2020    3687.50   10100.0  "
      ]
     },
     "execution_count": 93,
     "metadata": {},
     "output_type": "execute_result"
    }
   ],
   "source": [
    "df_year.kms.describe()"
   ]
  },
  {
   "cell_type": "code",
   "execution_count": 90,
   "metadata": {},
   "outputs": [
    {
     "data": {
      "text/plain": [
       "Text(-15.074999999999996, 0.5, 'KMS')"
      ]
     },
     "execution_count": 90,
     "metadata": {},
     "output_type": "execute_result"
    },
    {
     "data": {
      "image/png": "[encoded data removed]",
      "text/plain": [
       "<Figure size 900x360 with 1 Axes>"
      ]
     },
     "metadata": {
      "needs_background": "light"
     },
     "output_type": "display_data"
    }
   ],
   "source": [
    "# Histogram of Kms by Year Model\n",
    "sns.catplot(x=\"year\", y=\"kms\", kind=\"box\", data = df, height=5, aspect=2.5 )\n",
    "plt.title('Distribution of KMS by Year', size=24)\n",
    "plt.xlabel('Year Model', size=18)\n",
    "plt.ylabel('KMS', size=18)"
   ]
  },
  {
   "cell_type": "markdown",
   "metadata": {},
   "source": [
    "We can see we have outliers in year price and kms attributes. we will remove them."
   ]
  },
  {
   "cell_type": "markdown",
   "metadata": {},
   "source": [
    "### Removing outliers"
   ]
  },
  {
   "cell_type": "code",
   "execution_count": 105,
   "metadata": {},
   "outputs": [],
   "source": [
    "from scipy import stats\n",
    "import numpy as np"
   ]
  },
  {
   "cell_type": "markdown",
   "metadata": {},
   "source": [
    "First, I will check for outliers located further than 3 standard deviations."
   ]
  },
  {
   "cell_type": "code",
   "execution_count": 107,
   "metadata": {},
   "outputs": [
    {
     "name": "stdout",
     "output_type": "stream",
     "text": [
      "(array([ 74,  78, 147], dtype=int64), array([2, 2, 1], dtype=int64))\n"
     ]
    }
   ],
   "source": [
    "z = np.abs(stats.zscore(df))\n",
    "print(np.where(z>3))"
   ]
  },
  {
   "cell_type": "code",
   "execution_count": 96,
   "metadata": {},
   "outputs": [],
   "source": [
    "df_z = df[(z < 3).all(axis=1)].copy()"
   ]
  },
  {
   "cell_type": "code",
   "execution_count": 108,
   "metadata": {},
   "outputs": [
    {
     "name": "stdout",
     "output_type": "stream",
     "text": [
      "<class 'pandas.core.frame.DataFrame'>\n",
      "Int64Index: 159 entries, 0 to 161\n",
      "Data columns (total 3 columns):\n",
      "price    159 non-null float64\n",
      "year     159 non-null int64\n",
      "kms      159 non-null int32\n",
      "dtypes: float64(1), int32(1), int64(1)\n",
      "memory usage: 9.3 KB\n"
     ]
    }
   ],
   "source": [
    "df_z.info()"
   ]
  },
  {
   "cell_type": "code",
   "execution_count": 109,
   "metadata": {},
   "outputs": [
    {
     "name": "stdout",
     "output_type": "stream",
     "text": [
      "<class 'pandas.core.frame.DataFrame'>\n",
      "RangeIndex: 162 entries, 0 to 161\n",
      "Data columns (total 3 columns):\n",
      "price    162 non-null float64\n",
      "year     162 non-null int64\n",
      "kms      162 non-null int32\n",
      "dtypes: float64(1), int32(1), int64(1)\n",
      "memory usage: 3.3 KB\n"
     ]
    }
   ],
   "source": [
    "df.info()"
   ]
  },
  {
   "cell_type": "code",
   "execution_count": 110,
   "metadata": {},
   "outputs": [
    {
     "data": {
      "text/plain": [
       "<seaborn.axisgrid.PairGrid at 0x157f0c4c4e0>"
      ]
     },
     "execution_count": 110,
     "metadata": {},
     "output_type": "execute_result"
    },
    {
     "data": {
      "image/png": "[encoded data removed]",
      "text/plain": [
       "<Figure size 540x540 with 12 Axes>"
      ]
     },
     "metadata": {
      "needs_background": "light"
     },
     "output_type": "display_data"
    }
   ],
   "source": [
    "sns.pairplot(df_z)"
   ]
  },
  {
   "cell_type": "markdown",
   "metadata": {},
   "source": [
    "Now let's check with IQR Score."
   ]
  },
  {
   "cell_type": "code",
   "execution_count": 111,
   "metadata": {},
   "outputs": [
    {
     "name": "stdout",
     "output_type": "stream",
     "text": [
      "price       34.175\n",
      "year         6.000\n",
      "kms      57490.750\n",
      "dtype: float64\n"
     ]
    }
   ],
   "source": [
    "Q1 = df.quantile(0.25)\n",
    "Q3 = df.quantile(0.75)\n",
    "IQR = Q3 - Q1\n",
    "print(IQR)"
   ]
  },
  {
   "cell_type": "code",
   "execution_count": 121,
   "metadata": {},
   "outputs": [],
   "source": [
    "df_iqr = df[~((df < (Q1 - 1.5 * IQR)) |(df > (Q3 + 1.5 * IQR))).any(axis=1)]"
   ]
  },
  {
   "cell_type": "code",
   "execution_count": 122,
   "metadata": {},
   "outputs": [
    {
     "name": "stdout",
     "output_type": "stream",
     "text": [
      "<class 'pandas.core.frame.DataFrame'>\n",
      "Int64Index: 155 entries, 0 to 161\n",
      "Data columns (total 3 columns):\n",
      "price    155 non-null float64\n",
      "year     155 non-null int64\n",
      "kms      155 non-null int32\n",
      "dtypes: float64(1), int32(1), int64(1)\n",
      "memory usage: 4.2 KB\n"
     ]
    }
   ],
   "source": [
    "df_iqr.info()"
   ]
  },
  {
   "cell_type": "code",
   "execution_count": 123,
   "metadata": {},
   "outputs": [
    {
     "data": {
      "text/plain": [
       "<seaborn.axisgrid.PairGrid at 0x157f1d52908>"
      ]
     },
     "execution_count": 123,
     "metadata": {},
     "output_type": "execute_result"
    },
    {
     "data": {
      "image/png": "[encoded data removed]",
      "text/plain": [
       "<Figure size 540x540 with 12 Axes>"
      ]
     },
     "metadata": {
      "needs_background": "light"
     },
     "output_type": "display_data"
    }
   ],
   "source": [
    "sns.pairplot(df_iqr)"
   ]
  },
  {
   "cell_type": "markdown",
   "metadata": {},
   "source": [
    "We will choose IQR Score as it must robust for detecting outliers in oir dataset"
   ]
  },
  {
   "cell_type": "markdown",
   "metadata": {},
   "source": [
    "We can combine all of the attributes in a single plot, by assigning the year model to colors. \n",
    "We can appeciate the different clusters."
   ]
  },
  {
   "cell_type": "code",
   "execution_count": 124,
   "metadata": {},
   "outputs": [
    {
     "data": {
      "text/plain": [
       "Text(0, 0.5, 'Price')"
      ]
     },
     "execution_count": 124,
     "metadata": {},
     "output_type": "execute_result"
    },
    {
     "data": {
      "image/png": "[encoded data removed]",
      "text/plain": [
       "<Figure size 720x504 with 2 Axes>"
      ]
     },
     "metadata": {
      "needs_background": "light"
     },
     "output_type": "display_data"
    }
   ],
   "source": [
    "df_iqr.plot(kind=\"scatter\", x=\"kms\", y=\"price\", alpha=0.4,\n",
    "           figsize=(10,7), c=\"year\", cmap=plt.get_cmap(\"jet\"), colorbar=True, sharex=False)\n",
    "plt.title('Price by Kms over Year Model', size=24)\n",
    "plt.xlabel('Kms', size=18)\n",
    "plt.ylabel('Price', size=18)"
   ]
  },
  {
   "cell_type": "markdown",
   "metadata": {},
   "source": [
    "### Correlations"
   ]
  },
  {
   "cell_type": "code",
   "execution_count": 141,
   "metadata": {},
   "outputs": [
    {
     "data": {
      "text/plain": [
       "Text(0.5, 1, 'Correlations Heatmap')"
      ]
     },
     "execution_count": 141,
     "metadata": {},
     "output_type": "execute_result"
    },
    {
     "data": {
      "image/png": "[encoded data removed]",
      "text/plain": [
       "<Figure size 720x504 with 2 Axes>"
      ]
     },
     "metadata": {
      "needs_background": "light"
     },
     "output_type": "display_data"
    }
   ],
   "source": [
    "#Heatmap of correlations\n",
    "corr = df_iqr.corr()\n",
    "fig, ax = plt.subplots(figsize=(10,7)) \n",
    "sns.heatmap(corr,\n",
    "                 vmin=-1, vmax=1, center=0,\n",
    "                 square=True, annot = True,\n",
    "                linewidths=.5, ax=ax)\n",
    "plt.title('Correlations Heatmap', size=16)"
   ]
  },
  {
   "cell_type": "code",
   "execution_count": 146,
   "metadata": {},
   "outputs": [
    {
     "data": {
      "image/png": "[encoded data removed]",
      "text/plain": [
       "<Figure size 720x504 with 1 Axes>"
      ]
     },
     "metadata": {
      "needs_background": "light"
     },
     "output_type": "display_data"
    }
   ],
   "source": [
    "# Regression plot using seaborn.\n",
    "fig = plt.figure(figsize=(10,7))\n",
    "sns.regplot(x=df_iqr.kms,y=df_iqr.price,color='blue', marker='+')\n",
    "plt.title('Relationship between Price and Kms', size=24)\n",
    "plt.xlabel('Kms', size=18)\n",
    "plt.ylabel('Price (millions of COP)', size=18);"
   ]
  },
  {
   "cell_type": "code",
   "execution_count": 145,
   "metadata": {},
   "outputs": [
    {
     "data": {
      "image/png": "[encoded data removed]",
      "text/plain": [
       "<Figure size 720x504 with 1 Axes>"
      ]
     },
     "metadata": {
      "needs_background": "light"
     },
     "output_type": "display_data"
    }
   ],
   "source": [
    "# Residual plot.\n",
    "fig = plt.figure(figsize=(10,7))\n",
    "sns.residplot(df_iqr.kms, df_iqr.price, color='blue')\n",
    "plt.title('Residual plot Price Vs KMs', size=24)\n",
    "plt.xlabel('Kms', size=18)\n",
    "plt.ylabel('Price (millions of COP)', size=18);"
   ]
  },
  {
   "cell_type": "markdown",
   "metadata": {},
   "source": [
    "Now this looks more like a exponential curve, so I will take the log to see"
   ]
  },
  {
   "cell_type": "code",
   "execution_count": 147,
   "metadata": {},
   "outputs": [],
   "source": [
    "df_iqr = df_iqr.assign(price_log = lambda x: np.log(x.price))"
   ]
  },
  {
   "cell_type": "code",
   "execution_count": 148,
   "metadata": {},
   "outputs": [
    {
     "data": {
      "text/html": [
       "<div>\n",
       "<style scoped>\n",
       "    .dataframe tbody tr th:only-of-type {\n",
       "        vertical-align: middle;\n",
       "    }\n",
       "\n",
       "    .dataframe tbody tr th {\n",
       "        vertical-align: top;\n",
       "    }\n",
       "\n",
       "    .dataframe thead th {\n",
       "        text-align: right;\n",
       "    }\n",
       "</style>\n",
       "<table border=\"1\" class=\"dataframe\">\n",
       "  <thead>\n",
       "    <tr style=\"text-align: right;\">\n",
       "      <th></th>\n",
       "      <th>price</th>\n",
       "      <th>year</th>\n",
       "      <th>kms</th>\n",
       "      <th>price_log</th>\n",
       "    </tr>\n",
       "  </thead>\n",
       "  <tbody>\n",
       "    <tr>\n",
       "      <th>0</th>\n",
       "      <td>86.9</td>\n",
       "      <td>2017</td>\n",
       "      <td>13500</td>\n",
       "      <td>4.464758</td>\n",
       "    </tr>\n",
       "    <tr>\n",
       "      <th>1</th>\n",
       "      <td>49.9</td>\n",
       "      <td>2013</td>\n",
       "      <td>86000</td>\n",
       "      <td>3.910021</td>\n",
       "    </tr>\n",
       "    <tr>\n",
       "      <th>2</th>\n",
       "      <td>28.5</td>\n",
       "      <td>2005</td>\n",
       "      <td>118500</td>\n",
       "      <td>3.349904</td>\n",
       "    </tr>\n",
       "    <tr>\n",
       "      <th>3</th>\n",
       "      <td>110.0</td>\n",
       "      <td>2019</td>\n",
       "      <td>19500</td>\n",
       "      <td>4.700480</td>\n",
       "    </tr>\n",
       "    <tr>\n",
       "      <th>4</th>\n",
       "      <td>32.0</td>\n",
       "      <td>2006</td>\n",
       "      <td>114400</td>\n",
       "      <td>3.465736</td>\n",
       "    </tr>\n",
       "  </tbody>\n",
       "</table>\n",
       "</div>"
      ],
      "text/plain": [
       "   price  year     kms  price_log\n",
       "0   86.9  2017   13500   4.464758\n",
       "1   49.9  2013   86000   3.910021\n",
       "2   28.5  2005  118500   3.349904\n",
       "3  110.0  2019   19500   4.700480\n",
       "4   32.0  2006  114400   3.465736"
      ]
     },
     "execution_count": 148,
     "metadata": {},
     "output_type": "execute_result"
    }
   ],
   "source": [
    "df_iqr.head()"
   ]
  },
  {
   "cell_type": "code",
   "execution_count": 149,
   "metadata": {},
   "outputs": [
    {
     "data": {
      "text/plain": [
       "<matplotlib.axes._subplots.AxesSubplot at 0x157f42ebf28>"
      ]
     },
     "execution_count": 149,
     "metadata": {},
     "output_type": "execute_result"
    },
    {
     "data": {
      "image/png": "[encoded data removed]",
      "text/plain": [
       "<Figure size 720x504 with 2 Axes>"
      ]
     },
     "metadata": {
      "needs_background": "light"
     },
     "output_type": "display_data"
    }
   ],
   "source": [
    "df_iqr.plot(kind=\"scatter\", x=\"kms\", y=\"price_log\", alpha=0.4,\n",
    "           figsize=(10,7), c=\"year\", cmap=plt.get_cmap(\"jet\"), colorbar=True, sharex=False)"
   ]
  },
  {
   "cell_type": "code",
   "execution_count": 151,
   "metadata": {},
   "outputs": [
    {
     "data": {
      "text/plain": [
       "<matplotlib.axes._subplots.AxesSubplot at 0x157f4930f60>"
      ]
     },
     "execution_count": 151,
     "metadata": {},
     "output_type": "execute_result"
    },
    {
     "data": {
      "image/png": "[encoded data removed]",
      "text/plain": [
       "<Figure size 432x288 with 2 Axes>"
      ]
     },
     "metadata": {
      "needs_background": "light"
     },
     "output_type": "display_data"
    }
   ],
   "source": [
    "sns.heatmap(df_iqr.corr(), annot =True, center =0)"
   ]
  },
  {
   "cell_type": "code",
   "execution_count": 152,
   "metadata": {},
   "outputs": [
    {
     "data": {
      "image/png": "[encoded data removed]",
      "text/plain": [
       "<Figure size 720x504 with 1 Axes>"
      ]
     },
     "metadata": {
      "needs_background": "light"
     },
     "output_type": "display_data"
    }
   ],
   "source": [
    "# Regression plot using seaborn.\n",
    "fig = plt.figure(figsize=(10,7))\n",
    "sns.regplot(x=df_iqr.kms,y=df_iqr.price_log,color='blue', marker='+')\n",
    "plt.title('Relationship between Price_LOG and Kms', size=24)\n",
    "plt.xlabel('Kms', size=18)\n",
    "plt.ylabel('Price_Log (millions of COP)', size=18);"
   ]
  },
  {
   "cell_type": "code",
   "execution_count": 154,
   "metadata": {},
   "outputs": [
    {
     "data": {
      "image/png": "[encoded data removed]",
      "text/plain": [
       "<Figure size 720x504 with 1 Axes>"
      ]
     },
     "metadata": {
      "needs_background": "light"
     },
     "output_type": "display_data"
    }
   ],
   "source": [
    "# Residual plot.\n",
    "fig = plt.figure(figsize=(10,7))\n",
    "sns.residplot(df_iqr.kms, df_iqr.price_log, color='blue')\n",
    "plt.title('Residual plot Price_Log Vs KMs', size=24)\n",
    "plt.xlabel('Kms', size=18)\n",
    "plt.ylabel('Price LOG (millions of COP)', size=18);"
   ]
  },
  {
   "cell_type": "markdown",
   "metadata": {},
   "source": [
    "Perfect so to sum up, I will write a function to transform our data"
   ]
  },
  {
   "cell_type": "code",
   "execution_count": 159,
   "metadata": {},
   "outputs": [],
   "source": [
    "def transformData(df):\n",
    "    # Remove Outliers using IQR Score\n",
    "    Q1 = df.quantile(0.25)\n",
    "    Q3 = df.quantile(0.75)\n",
    "    IQR = Q3 - Q1\n",
    "    df_iqr = df[~((df < (Q1 - 1.5 * IQR)) |(df > (Q3 + 1.5 * IQR))).any(axis=1)]\n",
    "    \n",
    "    #Add logPrice column\n",
    "    df_iqr = df_iqr.assign(price_log = lambda x: np.log(x.price))\n",
    "    \n",
    "    return df_iqr"
   ]
  },
  {
   "cell_type": "markdown",
   "metadata": {},
   "source": [
    "Now let's test our new function transformData"
   ]
  },
  {
   "cell_type": "code",
   "execution_count": 160,
   "metadata": {},
   "outputs": [],
   "source": [
    "df = pd.read_csv('files/vehicles.csv')\n",
    "df = prepareData(df)\n",
    "df = transformData(df)"
   ]
  },
  {
   "cell_type": "code",
   "execution_count": 161,
   "metadata": {},
   "outputs": [
    {
     "data": {
      "text/html": [
       "<div>\n",
       "<style scoped>\n",
       "    .dataframe tbody tr th:only-of-type {\n",
       "        vertical-align: middle;\n",
       "    }\n",
       "\n",
       "    .dataframe tbody tr th {\n",
       "        vertical-align: top;\n",
       "    }\n",
       "\n",
       "    .dataframe thead th {\n",
       "        text-align: right;\n",
       "    }\n",
       "</style>\n",
       "<table border=\"1\" class=\"dataframe\">\n",
       "  <thead>\n",
       "    <tr style=\"text-align: right;\">\n",
       "      <th></th>\n",
       "      <th>price</th>\n",
       "      <th>year</th>\n",
       "      <th>kms</th>\n",
       "      <th>price_log</th>\n",
       "    </tr>\n",
       "  </thead>\n",
       "  <tbody>\n",
       "    <tr>\n",
       "      <th>0</th>\n",
       "      <td>86.9</td>\n",
       "      <td>2017</td>\n",
       "      <td>13500</td>\n",
       "      <td>4.464758</td>\n",
       "    </tr>\n",
       "    <tr>\n",
       "      <th>1</th>\n",
       "      <td>49.9</td>\n",
       "      <td>2013</td>\n",
       "      <td>86000</td>\n",
       "      <td>3.910021</td>\n",
       "    </tr>\n",
       "    <tr>\n",
       "      <th>2</th>\n",
       "      <td>28.5</td>\n",
       "      <td>2005</td>\n",
       "      <td>118500</td>\n",
       "      <td>3.349904</td>\n",
       "    </tr>\n",
       "    <tr>\n",
       "      <th>3</th>\n",
       "      <td>110.0</td>\n",
       "      <td>2019</td>\n",
       "      <td>19500</td>\n",
       "      <td>4.700480</td>\n",
       "    </tr>\n",
       "    <tr>\n",
       "      <th>4</th>\n",
       "      <td>32.0</td>\n",
       "      <td>2006</td>\n",
       "      <td>114400</td>\n",
       "      <td>3.465736</td>\n",
       "    </tr>\n",
       "  </tbody>\n",
       "</table>\n",
       "</div>"
      ],
      "text/plain": [
       "   price  year     kms  price_log\n",
       "0   86.9  2017   13500   4.464758\n",
       "1   49.9  2013   86000   3.910021\n",
       "2   28.5  2005  118500   3.349904\n",
       "3  110.0  2019   19500   4.700480\n",
       "4   32.0  2006  114400   3.465736"
      ]
     },
     "execution_count": 161,
     "metadata": {},
     "output_type": "execute_result"
    }
   ],
   "source": [
    "df.head()"
   ]
  },
  {
   "cell_type": "markdown",
   "metadata": {},
   "source": [
    "## Calculating Regressions"
   ]
  },
  {
   "cell_type": "markdown",
   "metadata": {},
   "source": [
    "Now we are ready to make our regression calculations. I want to test two Regression: Linear regression, using my categorical data year model and a non-linear regression."
   ]
  },
  {
   "cell_type": "code",
   "execution_count": 171,
   "metadata": {},
   "outputs": [],
   "source": [
    "df = df.sort_values('kms')\n",
    "X = df.iloc[:,2:3]\n",
    "y = df.iloc[:,3]"
   ]
  },
  {
   "cell_type": "markdown",
   "metadata": {},
   "source": [
    "### Linear Regression"
   ]
  },
  {
   "cell_type": "code",
   "execution_count": 173,
   "metadata": {},
   "outputs": [
    {
     "name": "stdout",
     "output_type": "stream",
     "text": [
      "-158.19249767148742\n",
      "[-2.02620015e-06  8.06647554e-02]\n"
     ]
    }
   ],
   "source": [
    "from sklearn.linear_model import LinearRegression\n",
    "\n",
    "# Create linear regression object.\n",
    "mlr= LinearRegression()\n",
    "\n",
    "# Fit linear regression.\n",
    "mlr.fit(df[['kms','year']], df['price_log'])\n",
    "\n",
    "# Get the slope and intercept of the line best fit.\n",
    "print(mlr.intercept_)\n",
    "print(mlr.coef_)"
   ]
  },
  {
   "cell_type": "markdown",
   "metadata": {},
   "source": [
    "Now as we saw in the Data assessment, the data can have outliers. And this is normal, basically a Seller can put the price that he wants. Also we can have cars with a lot of kilometers. Because of this is better to use mean absolute error as our performance measure."
   ]
  },
  {
   "cell_type": "code",
   "execution_count": 175,
   "metadata": {},
   "outputs": [
    {
     "data": {
      "text/plain": [
       "3.766097386246106"
      ]
     },
     "execution_count": 175,
     "metadata": {},
     "output_type": "execute_result"
    }
   ],
   "source": [
    "from sklearn.metrics import mean_absolute_error\n",
    "estimated_prices = np.exp(mlr.predict(df[['kms','year']]))\n",
    "lin_mae = mean_absolute_error(df['price'], estimated_prices)\n",
    "lin_mae"
   ]
  },
  {
   "cell_type": "markdown",
   "metadata": {},
   "source": [
    "Just as a reference Mean Squar Error"
   ]
  },
  {
   "cell_type": "code",
   "execution_count": 164,
   "metadata": {},
   "outputs": [
    {
     "data": {
      "text/plain": [
       "5.283296391727104"
      ]
     },
     "execution_count": 164,
     "metadata": {},
     "output_type": "execute_result"
    }
   ],
   "source": [
    "# Mean Squared Error\n",
    "from sklearn.metrics import mean_squared_error\n",
    "lin_mse = mean_squared_error(df_iqr['price'], estimated_prices)\n",
    "lin_rmse = np.sqrt(lin_mse)\n",
    "lin_rmse"
   ]
  },
  {
   "cell_type": "markdown",
   "metadata": {},
   "source": [
    "Now we are ready to do some predictions."
   ]
  },
  {
   "cell_type": "code",
   "execution_count": 187,
   "metadata": {},
   "outputs": [
    {
     "name": "stdout",
     "output_type": "stream",
     "text": [
      "[43.9014732]\n"
     ]
    }
   ],
   "source": [
    "# Predictions using scikit learn.\n",
    "KMS = 40000\n",
    "YEAR_MODEL = 2009\n",
    "\n",
    "print(np.exp(mlr.predict([[KMS,YEAR_MODEL]])))"
   ]
  },
  {
   "cell_type": "markdown",
   "metadata": {},
   "source": [
    "We can print the results in another column to inspect the differences"
   ]
  },
  {
   "cell_type": "code",
   "execution_count": 166,
   "metadata": {},
   "outputs": [],
   "source": [
    "df_result = df.assign(predicted = estimated_prices)"
   ]
  },
  {
   "cell_type": "code",
   "execution_count": 167,
   "metadata": {},
   "outputs": [
    {
     "data": {
      "text/html": [
       "<div>\n",
       "<style scoped>\n",
       "    .dataframe tbody tr th:only-of-type {\n",
       "        vertical-align: middle;\n",
       "    }\n",
       "\n",
       "    .dataframe tbody tr th {\n",
       "        vertical-align: top;\n",
       "    }\n",
       "\n",
       "    .dataframe thead th {\n",
       "        text-align: right;\n",
       "    }\n",
       "</style>\n",
       "<table border=\"1\" class=\"dataframe\">\n",
       "  <thead>\n",
       "    <tr style=\"text-align: right;\">\n",
       "      <th></th>\n",
       "      <th>price</th>\n",
       "      <th>year</th>\n",
       "      <th>kms</th>\n",
       "      <th>price_log</th>\n",
       "      <th>predicted</th>\n",
       "    </tr>\n",
       "  </thead>\n",
       "  <tbody>\n",
       "    <tr>\n",
       "      <th>0</th>\n",
       "      <td>86.9</td>\n",
       "      <td>2017</td>\n",
       "      <td>13500</td>\n",
       "      <td>4.464758</td>\n",
       "      <td>88.319438</td>\n",
       "    </tr>\n",
       "    <tr>\n",
       "      <th>1</th>\n",
       "      <td>49.9</td>\n",
       "      <td>2013</td>\n",
       "      <td>86000</td>\n",
       "      <td>3.910021</td>\n",
       "      <td>55.224224</td>\n",
       "    </tr>\n",
       "    <tr>\n",
       "      <th>2</th>\n",
       "      <td>28.5</td>\n",
       "      <td>2005</td>\n",
       "      <td>118500</td>\n",
       "      <td>3.349904</td>\n",
       "      <td>27.118934</td>\n",
       "    </tr>\n",
       "    <tr>\n",
       "      <th>3</th>\n",
       "      <td>110.0</td>\n",
       "      <td>2019</td>\n",
       "      <td>19500</td>\n",
       "      <td>4.700480</td>\n",
       "      <td>102.527652</td>\n",
       "    </tr>\n",
       "    <tr>\n",
       "      <th>4</th>\n",
       "      <td>32.0</td>\n",
       "      <td>2006</td>\n",
       "      <td>114400</td>\n",
       "      <td>3.465736</td>\n",
       "      <td>29.642357</td>\n",
       "    </tr>\n",
       "    <tr>\n",
       "      <th>5</th>\n",
       "      <td>80.0</td>\n",
       "      <td>2016</td>\n",
       "      <td>28000</td>\n",
       "      <td>4.382027</td>\n",
       "      <td>79.116035</td>\n",
       "    </tr>\n",
       "    <tr>\n",
       "      <th>6</th>\n",
       "      <td>72.0</td>\n",
       "      <td>2016</td>\n",
       "      <td>31572</td>\n",
       "      <td>4.276666</td>\n",
       "      <td>78.545493</td>\n",
       "    </tr>\n",
       "    <tr>\n",
       "      <th>7</th>\n",
       "      <td>58.0</td>\n",
       "      <td>2013</td>\n",
       "      <td>40736</td>\n",
       "      <td>4.060443</td>\n",
       "      <td>60.528578</td>\n",
       "    </tr>\n",
       "    <tr>\n",
       "      <th>8</th>\n",
       "      <td>38.9</td>\n",
       "      <td>2009</td>\n",
       "      <td>91000</td>\n",
       "      <td>3.660994</td>\n",
       "      <td>39.591390</td>\n",
       "    </tr>\n",
       "    <tr>\n",
       "      <th>9</th>\n",
       "      <td>59.5</td>\n",
       "      <td>2013</td>\n",
       "      <td>37200</td>\n",
       "      <td>4.085976</td>\n",
       "      <td>60.963801</td>\n",
       "    </tr>\n",
       "  </tbody>\n",
       "</table>\n",
       "</div>"
      ],
      "text/plain": [
       "   price  year     kms  price_log   predicted\n",
       "0   86.9  2017   13500   4.464758   88.319438\n",
       "1   49.9  2013   86000   3.910021   55.224224\n",
       "2   28.5  2005  118500   3.349904   27.118934\n",
       "3  110.0  2019   19500   4.700480  102.527652\n",
       "4   32.0  2006  114400   3.465736   29.642357\n",
       "5   80.0  2016   28000   4.382027   79.116035\n",
       "6   72.0  2016   31572   4.276666   78.545493\n",
       "7   58.0  2013   40736   4.060443   60.528578\n",
       "8   38.9  2009   91000   3.660994   39.591390\n",
       "9   59.5  2013   37200   4.085976   60.963801"
      ]
     },
     "execution_count": 167,
     "metadata": {},
     "output_type": "execute_result"
    }
   ],
   "source": [
    "df_result.head(10)"
   ]
  },
  {
   "cell_type": "markdown",
   "metadata": {},
   "source": [
    "### Non-Linear Regression"
   ]
  },
  {
   "cell_type": "code",
   "execution_count": 168,
   "metadata": {},
   "outputs": [],
   "source": [
    "df = df.sort_values('kms')\n",
    "X = df.iloc[:,2:3]\n",
    "y = df.iloc[:,3]"
   ]
  },
  {
   "cell_type": "code",
   "execution_count": 169,
   "metadata": {},
   "outputs": [
    {
     "data": {
      "text/plain": [
       "LinearRegression(copy_X=True, fit_intercept=True, n_jobs=None, normalize=False)"
      ]
     },
     "execution_count": 169,
     "metadata": {},
     "output_type": "execute_result"
    }
   ],
   "source": [
    "# Fitting Polynomial Regression to the dataset \n",
    "from sklearn.preprocessing import PolynomialFeatures \n",
    "  \n",
    "poly = PolynomialFeatures(degree = 3) \n",
    "X_poly = poly.fit_transform(X) \n",
    "  \n",
    "poly.fit(X_poly, y) \n",
    "lin2 = LinearRegression() \n",
    "lin2.fit(X_poly, y)"
   ]
  },
  {
   "cell_type": "code",
   "execution_count": 180,
   "metadata": {},
   "outputs": [
    {
     "data": {
      "image/png": "[encoded data removed]",
      "text/plain": [
       "<Figure size 720x504 with 1 Axes>"
      ]
     },
     "metadata": {
      "needs_background": "light"
     },
     "output_type": "display_data"
    }
   ],
   "source": [
    "# Visualising the Polynomial Regression results\n",
    "fig = plt.figure(figsize=(10,7))\n",
    "plt.scatter(X, y, color = 'blue')   \n",
    "plt.plot(X, lin2.predict(poly.fit_transform(X)), color = 'red') \n",
    "plt.title('Polynomial Regression') \n",
    "plt.xlabel('Kms') \n",
    "plt.ylabel('Price_Log') \n",
    "  \n",
    "plt.show() "
   ]
  },
  {
   "cell_type": "code",
   "execution_count": 183,
   "metadata": {},
   "outputs": [
    {
     "data": {
      "text/plain": [
       "8.16121076707006"
      ]
     },
     "execution_count": 183,
     "metadata": {},
     "output_type": "execute_result"
    }
   ],
   "source": [
    "from sklearn.metrics import mean_absolute_error\n",
    "estimated_prices = np.exp(lin2.predict(poly.fit_transform(X)))\n",
    "lin_mae = mean_absolute_error(df['price'], estimated_prices)\n",
    "lin_mae"
   ]
  },
  {
   "cell_type": "code",
   "execution_count": 188,
   "metadata": {},
   "outputs": [],
   "source": [
    "df_result = df_result.assign(predicted_poly = estimated_prices)"
   ]
  },
  {
   "cell_type": "code",
   "execution_count": 189,
   "metadata": {},
   "outputs": [
    {
     "data": {
      "text/html": [
       "<div>\n",
       "<style scoped>\n",
       "    .dataframe tbody tr th:only-of-type {\n",
       "        vertical-align: middle;\n",
       "    }\n",
       "\n",
       "    .dataframe tbody tr th {\n",
       "        vertical-align: top;\n",
       "    }\n",
       "\n",
       "    .dataframe thead th {\n",
       "        text-align: right;\n",
       "    }\n",
       "</style>\n",
       "<table border=\"1\" class=\"dataframe\">\n",
       "  <thead>\n",
       "    <tr style=\"text-align: right;\">\n",
       "      <th></th>\n",
       "      <th>price</th>\n",
       "      <th>year</th>\n",
       "      <th>kms</th>\n",
       "      <th>price_log</th>\n",
       "      <th>predicted</th>\n",
       "      <th>predicted_poly</th>\n",
       "    </tr>\n",
       "  </thead>\n",
       "  <tbody>\n",
       "    <tr>\n",
       "      <th>0</th>\n",
       "      <td>86.9</td>\n",
       "      <td>2017</td>\n",
       "      <td>13500</td>\n",
       "      <td>4.464758</td>\n",
       "      <td>88.319438</td>\n",
       "      <td>111.598312</td>\n",
       "    </tr>\n",
       "    <tr>\n",
       "      <th>1</th>\n",
       "      <td>49.9</td>\n",
       "      <td>2013</td>\n",
       "      <td>86000</td>\n",
       "      <td>3.910021</td>\n",
       "      <td>55.224224</td>\n",
       "      <td>109.996938</td>\n",
       "    </tr>\n",
       "    <tr>\n",
       "      <th>2</th>\n",
       "      <td>28.5</td>\n",
       "      <td>2005</td>\n",
       "      <td>118500</td>\n",
       "      <td>3.349904</td>\n",
       "      <td>27.118934</td>\n",
       "      <td>109.833381</td>\n",
       "    </tr>\n",
       "    <tr>\n",
       "      <th>3</th>\n",
       "      <td>110.0</td>\n",
       "      <td>2019</td>\n",
       "      <td>19500</td>\n",
       "      <td>4.700480</td>\n",
       "      <td>102.527652</td>\n",
       "      <td>109.670171</td>\n",
       "    </tr>\n",
       "    <tr>\n",
       "      <th>4</th>\n",
       "      <td>32.0</td>\n",
       "      <td>2006</td>\n",
       "      <td>114400</td>\n",
       "      <td>3.465736</td>\n",
       "      <td>29.642357</td>\n",
       "      <td>109.507308</td>\n",
       "    </tr>\n",
       "    <tr>\n",
       "      <th>5</th>\n",
       "      <td>80.0</td>\n",
       "      <td>2016</td>\n",
       "      <td>28000</td>\n",
       "      <td>4.382027</td>\n",
       "      <td>79.116035</td>\n",
       "      <td>105.777809</td>\n",
       "    </tr>\n",
       "    <tr>\n",
       "      <th>6</th>\n",
       "      <td>72.0</td>\n",
       "      <td>2016</td>\n",
       "      <td>31572</td>\n",
       "      <td>4.276666</td>\n",
       "      <td>78.545493</td>\n",
       "      <td>101.934701</td>\n",
       "    </tr>\n",
       "    <tr>\n",
       "      <th>7</th>\n",
       "      <td>58.0</td>\n",
       "      <td>2013</td>\n",
       "      <td>40736</td>\n",
       "      <td>4.060443</td>\n",
       "      <td>60.528578</td>\n",
       "      <td>101.788141</td>\n",
       "    </tr>\n",
       "    <tr>\n",
       "      <th>8</th>\n",
       "      <td>38.9</td>\n",
       "      <td>2009</td>\n",
       "      <td>91000</td>\n",
       "      <td>3.660994</td>\n",
       "      <td>39.591390</td>\n",
       "      <td>100.482798</td>\n",
       "    </tr>\n",
       "    <tr>\n",
       "      <th>9</th>\n",
       "      <td>59.5</td>\n",
       "      <td>2013</td>\n",
       "      <td>37200</td>\n",
       "      <td>4.085976</td>\n",
       "      <td>60.963801</td>\n",
       "      <td>99.768133</td>\n",
       "    </tr>\n",
       "  </tbody>\n",
       "</table>\n",
       "</div>"
      ],
      "text/plain": [
       "   price  year     kms  price_log   predicted  predicted_poly\n",
       "0   86.9  2017   13500   4.464758   88.319438      111.598312\n",
       "1   49.9  2013   86000   3.910021   55.224224      109.996938\n",
       "2   28.5  2005  118500   3.349904   27.118934      109.833381\n",
       "3  110.0  2019   19500   4.700480  102.527652      109.670171\n",
       "4   32.0  2006  114400   3.465736   29.642357      109.507308\n",
       "5   80.0  2016   28000   4.382027   79.116035      105.777809\n",
       "6   72.0  2016   31572   4.276666   78.545493      101.934701\n",
       "7   58.0  2013   40736   4.060443   60.528578      101.788141\n",
       "8   38.9  2009   91000   3.660994   39.591390      100.482798\n",
       "9   59.5  2013   37200   4.085976   60.963801       99.768133"
      ]
     },
     "execution_count": 189,
     "metadata": {},
     "output_type": "execute_result"
    }
   ],
   "source": [
    "df_result.head(10)"
   ]
  },
  {
   "cell_type": "code",
   "execution_count": null,
   "metadata": {},
   "outputs": [],
   "source": []
  }
 ],
 "metadata": {
  "kernelspec": {
   "display_name": "Python 3",
   "language": "python",
   "name": "python3"
  },
  "language_info": {
   "codemirror_mode": {
    "name": "ipython",
    "version": 3
   },
   "file_extension": ".py",
   "mimetype": "text/x-python",
   "name": "python",
   "nbconvert_exporter": "python",
   "pygments_lexer": "ipython3",
   "version": "3.7.0"
  }
 },
 "nbformat": 4,
 "nbformat_minor": 2
}
